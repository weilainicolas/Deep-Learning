{
  "nbformat": 4,
  "nbformat_minor": 0,
  "metadata": {
    "colab": {
      "name": "L8_fully_connected",
      "provenance": [],
      "collapsed_sections": [],
      "include_colab_link": true
    },
    "kernelspec": {
      "name": "python3",
      "display_name": "Python 3"
    }
  },
  "cells": [
    {
      "cell_type": "markdown",
      "metadata": {
        "id": "view-in-github",
        "colab_type": "text"
      },
      "source": [
        "<a href=\"https://colab.research.google.com/github/weilainicolas/Deep-Learning/blob/master/L8_fully_connected.ipynb\" target=\"_parent\"><img src=\"https://colab.research.google.com/assets/colab-badge.svg\" alt=\"Open In Colab\"/></a>"
      ]
    },
    {
      "cell_type": "code",
      "metadata": {
        "id": "iMU4YCMkee3x",
        "colab_type": "code",
        "colab": {}
      },
      "source": [
        "from pathlib import Path\n",
        "from IPython.core.debugger import set_trace\n",
        "from fastai import datasets\n",
        "import pickle, gzip, math, torch, matplotlib as mpl\n",
        "import matplotlib.pyplot as plt\n",
        "from torch import tensor"
      ],
      "execution_count": 0,
      "outputs": []
    },
    {
      "cell_type": "code",
      "metadata": {
        "id": "-tVafVW0eQWM",
        "colab_type": "code",
        "colab": {}
      },
      "source": [
        "#export\n",
        "def get_data():\n",
        "  MNIST_URL='http://deeplearning.net/data/mnist/mnist.pkl'\n",
        "  path=datasets.download_data(MNIST_URL,ext='.gz'); \n",
        "  with gzip.open(path,'rb') as f:\n",
        "    ((x_train, y_train),(x_valid, y_valid),_)=pickle.load(f, encoding='latin-1')\n",
        "  return map(tensor,(x_train, y_train, x_valid,y_valid))\n",
        "\n",
        "def normalize(x,m,s): return (x-m)/s"
      ],
      "execution_count": 0,
      "outputs": []
    },
    {
      "cell_type": "code",
      "metadata": {
        "id": "RZTzlrHneXVv",
        "colab_type": "code",
        "colab": {}
      },
      "source": [
        "x_train, y_train, x_valid,y_valid =get_data()"
      ],
      "execution_count": 0,
      "outputs": []
    },
    {
      "cell_type": "code",
      "metadata": {
        "id": "pbs29iZLeZj6",
        "colab_type": "code",
        "outputId": "267f5313-7569-4e97-dad0-7f33cead84f3",
        "colab": {
          "base_uri": "https://localhost:8080/",
          "height": 34
        }
      },
      "source": [
        "train_mean, train_std= x_train.mean(), x_train.std()\n",
        "train_mean, train_std"
      ],
      "execution_count": 5,
      "outputs": [
        {
          "output_type": "execute_result",
          "data": {
            "text/plain": [
              "(tensor(0.1304), tensor(0.3073))"
            ]
          },
          "metadata": {
            "tags": []
          },
          "execution_count": 5
        }
      ]
    },
    {
      "cell_type": "code",
      "metadata": {
        "id": "Zxlg1oLhemyr",
        "colab_type": "code",
        "colab": {}
      },
      "source": [
        "x_train= normalize(x_train,train_mean, train_std)\n",
        "x_valid= normalize(x_valid, train_mean, train_std)"
      ],
      "execution_count": 0,
      "outputs": []
    },
    {
      "cell_type": "code",
      "metadata": {
        "id": "MoVCIsdRe7et",
        "colab_type": "code",
        "outputId": "daa2c5bb-8159-4def-9a1f-291ecd910157",
        "colab": {
          "base_uri": "https://localhost:8080/",
          "height": 34
        }
      },
      "source": [
        "x_valid.mean(), x_valid.std()"
      ],
      "execution_count": 0,
      "outputs": [
        {
          "output_type": "execute_result",
          "data": {
            "text/plain": [
              "(tensor(-0.4425), tensor(3.2296))"
            ]
          },
          "metadata": {
            "tags": []
          },
          "execution_count": 30
        }
      ]
    },
    {
      "cell_type": "code",
      "metadata": {
        "id": "EMWcm6wLfOdn",
        "colab_type": "code",
        "colab": {}
      },
      "source": [
        "def near (a, b): return torch.allclose(a,b, rtol=1e-3, atol=1e-5)"
      ],
      "execution_count": 0,
      "outputs": []
    },
    {
      "cell_type": "code",
      "metadata": {
        "id": "WOQI-oPrfofA",
        "colab_type": "code",
        "outputId": "31d69e43-db07-4560-e347-fb9d3a6945b2",
        "colab": {
          "base_uri": "https://localhost:8080/",
          "height": 34
        }
      },
      "source": [
        "r,c=x_train.shape\n",
        "cat=y_train.max()+1\n",
        "r,c,cat"
      ],
      "execution_count": 8,
      "outputs": [
        {
          "output_type": "execute_result",
          "data": {
            "text/plain": [
              "(50000, 784, tensor(10))"
            ]
          },
          "metadata": {
            "tags": []
          },
          "execution_count": 8
        }
      ]
    },
    {
      "cell_type": "markdown",
      "metadata": {
        "id": "EgkQiGfggCyF",
        "colab_type": "text"
      },
      "source": [
        "# **Foundation Version**\n"
      ]
    },
    {
      "cell_type": "code",
      "metadata": {
        "id": "P90FmMwPgJG1",
        "colab_type": "code",
        "colab": {}
      },
      "source": [
        "# hidden layer: number of input \n",
        "rh = 50"
      ],
      "execution_count": 0,
      "outputs": []
    },
    {
      "cell_type": "code",
      "metadata": {
        "id": "xu_zTuyEgtGU",
        "colab_type": "code",
        "colab": {}
      },
      "source": [
        "# kaiming he init\n",
        "w1=torch.randn(c,rh)*math.sqrt(2./c)\n",
        "b1=torch.zeros(rh)\n",
        "w2=torch.randn(rh,1)\n",
        "b2=torch.zeros(1)"
      ],
      "execution_count": 0,
      "outputs": []
    },
    {
      "cell_type": "code",
      "metadata": {
        "id": "Ng-57B-nlhjs",
        "colab_type": "code",
        "colab": {}
      },
      "source": [
        "def lin(x,w,b): return x@w+b"
      ],
      "execution_count": 0,
      "outputs": []
    },
    {
      "cell_type": "code",
      "metadata": {
        "id": "iQN4VkzEyKvH",
        "colab_type": "code",
        "colab": {}
      },
      "source": [
        "def relu(x): return x.clamp_min(0.)-0.5"
      ],
      "execution_count": 0,
      "outputs": []
    },
    {
      "cell_type": "code",
      "metadata": {
        "id": "do8KyuqJlppB",
        "colab_type": "code",
        "colab": {}
      },
      "source": [
        "t=relu(lin(x_train, w1,b1))"
      ],
      "execution_count": 0,
      "outputs": []
    },
    {
      "cell_type": "code",
      "metadata": {
        "id": "T3wwqbwSluaH",
        "colab_type": "code",
        "outputId": "b81e2c9a-3335-445a-bd29-c52499d8a830",
        "colab": {
          "base_uri": "https://localhost:8080/",
          "height": 34
        }
      },
      "source": [
        "t.mean(), t.std()"
      ],
      "execution_count": 13,
      "outputs": [
        {
          "output_type": "execute_result",
          "data": {
            "text/plain": [
              "(tensor(0.0407), tensor(0.8250))"
            ]
          },
          "metadata": {
            "tags": []
          },
          "execution_count": 13
        }
      ]
    },
    {
      "cell_type": "code",
      "metadata": {
        "id": "WVFwU1YEpus7",
        "colab_type": "code",
        "outputId": "06c77f90-d691-4ebc-99b7-5392de2c13f3",
        "colab": {
          "base_uri": "https://localhost:8080/",
          "height": 136
        }
      },
      "source": [
        "torch.nn.init.kaiming_normal_(w1,mode='fan_out')"
      ],
      "execution_count": 11,
      "outputs": [
        {
          "output_type": "execute_result",
          "data": {
            "text/plain": [
              "tensor([[ 0.0014, -0.0064,  0.0898,  ..., -0.0093, -0.0257,  0.0457],\n",
              "        [-0.0338,  0.0107,  0.0939,  ..., -0.0457,  0.0727,  0.0074],\n",
              "        [ 0.0561,  0.0029, -0.0080,  ..., -0.0301, -0.0467, -0.0097],\n",
              "        ...,\n",
              "        [-0.0128,  0.0221,  0.0638,  ..., -0.0459, -0.0086,  0.0314],\n",
              "        [ 0.0335,  0.0029,  0.0062,  ...,  0.0156, -0.0094,  0.0027],\n",
              "        [ 0.0332,  0.0704, -0.0305,  ..., -0.0167, -0.0400,  0.0309]])"
            ]
          },
          "metadata": {
            "tags": []
          },
          "execution_count": 11
        }
      ]
    },
    {
      "cell_type": "markdown",
      "metadata": {
        "id": "DVrJthqC7ma-",
        "colab_type": "text"
      },
      "source": [
        "# **Model**"
      ]
    },
    {
      "cell_type": "code",
      "metadata": {
        "id": "iaRSRsHE6O8B",
        "colab_type": "code",
        "colab": {}
      },
      "source": [
        "def model(x):\n",
        "  l1=lin(x,w1,b1)\n",
        "  l2=relu(l1)\n",
        "  l3=lin(l2,w2,b2)\n",
        "  return l3"
      ],
      "execution_count": 0,
      "outputs": []
    },
    {
      "cell_type": "code",
      "metadata": {
        "id": "nSM9fmjL6-fN",
        "colab_type": "code",
        "outputId": "fe808af3-0da4-435d-a87a-c5f1d1a962ff",
        "colab": {
          "base_uri": "https://localhost:8080/",
          "height": 51
        }
      },
      "source": [
        "%time result=model(x_valid)"
      ],
      "execution_count": 16,
      "outputs": [
        {
          "output_type": "stream",
          "text": [
            "CPU times: user 27.5 ms, sys: 115 µs, total: 27.6 ms\n",
            "Wall time: 35.8 ms\n"
          ],
          "name": "stdout"
        }
      ]
    },
    {
      "cell_type": "code",
      "metadata": {
        "id": "pKFx4TUx7WYc",
        "colab_type": "code",
        "outputId": "79337bcc-5fd4-4a33-d15c-476d74eaa702",
        "colab": {
          "base_uri": "https://localhost:8080/",
          "height": 34
        }
      },
      "source": [
        "result.shape"
      ],
      "execution_count": 17,
      "outputs": [
        {
          "output_type": "execute_result",
          "data": {
            "text/plain": [
              "torch.Size([10000, 1])"
            ]
          },
          "metadata": {
            "tags": []
          },
          "execution_count": 17
        }
      ]
    },
    {
      "cell_type": "markdown",
      "metadata": {
        "id": "HYO_L3NK7qat",
        "colab_type": "text"
      },
      "source": [
        "#**Loss Function**"
      ]
    },
    {
      "cell_type": "code",
      "metadata": {
        "id": "dZa92OJw71NF",
        "colab_type": "code",
        "colab": {}
      },
      "source": [
        "def mse(output,targ): return (output.squeeze(-1)-targ).pow(2).mean()"
      ],
      "execution_count": 0,
      "outputs": []
    },
    {
      "cell_type": "code",
      "metadata": {
        "id": "lWaKWHj5FiYM",
        "colab_type": "code",
        "colab": {}
      },
      "source": [
        "y_train, y_valid= y_train.float(), y_valid.float()"
      ],
      "execution_count": 0,
      "outputs": []
    },
    {
      "cell_type": "code",
      "metadata": {
        "id": "nrMvtAFXF216",
        "colab_type": "code",
        "colab": {}
      },
      "source": [
        "preds=model(x_train)"
      ],
      "execution_count": 0,
      "outputs": []
    },
    {
      "cell_type": "code",
      "metadata": {
        "id": "CMKoN3OXF8Ym",
        "colab_type": "code",
        "outputId": "01b6731a-f62e-4cb8-e305-00c72f8898db",
        "colab": {
          "base_uri": "https://localhost:8080/",
          "height": 34
        }
      },
      "source": [
        "preds.shape"
      ],
      "execution_count": 21,
      "outputs": [
        {
          "output_type": "execute_result",
          "data": {
            "text/plain": [
              "torch.Size([50000, 1])"
            ]
          },
          "metadata": {
            "tags": []
          },
          "execution_count": 21
        }
      ]
    },
    {
      "cell_type": "code",
      "metadata": {
        "id": "98-yKL_VGAmy",
        "colab_type": "code",
        "outputId": "1eb16abb-286c-4a55-da8d-16a62b227615",
        "colab": {
          "base_uri": "https://localhost:8080/",
          "height": 34
        }
      },
      "source": [
        "mse(preds,y_train)"
      ],
      "execution_count": 22,
      "outputs": [
        {
          "output_type": "execute_result",
          "data": {
            "text/plain": [
              "tensor(57.0966)"
            ]
          },
          "metadata": {
            "tags": []
          },
          "execution_count": 22
        }
      ]
    },
    {
      "cell_type": "markdown",
      "metadata": {
        "id": "qA75ikFZGKLk",
        "colab_type": "text"
      },
      "source": [
        "#**Gradient & Backward pass**"
      ]
    },
    {
      "cell_type": "code",
      "metadata": {
        "id": "Z82-czqaGRoc",
        "colab_type": "code",
        "colab": {}
      },
      "source": [
        "def mse_grad(inp,targ):\n",
        "  inp.g=2.*(inp.squeeze()-targ).unqueeze(-1)/inp.shape[0]"
      ],
      "execution_count": 0,
      "outputs": []
    },
    {
      "cell_type": "code",
      "metadata": {
        "id": "wlOQmR2cHrbz",
        "colab_type": "code",
        "colab": {}
      },
      "source": [
        "def relu_grad(inp,out):\n",
        "  inp.g=(inp>0).float()*out.g"
      ],
      "execution_count": 0,
      "outputs": []
    },
    {
      "cell_type": "code",
      "metadata": {
        "id": "4BNnWJyRKhGC",
        "colab_type": "code",
        "colab": {}
      },
      "source": [
        "def lin_grad(inp, out, w, b):\n",
        "  inp.g= out.g@ w.t() \n",
        "  w.g= (inp.unsqueeze(-1) * out.g.unsqueeze(1)).sum(0)\n",
        "  b.g= out.g.sum(0)"
      ],
      "execution_count": 0,
      "outputs": []
    },
    {
      "cell_type": "code",
      "metadata": {
        "id": "16DBeJ2LPqJJ",
        "colab_type": "code",
        "colab": {}
      },
      "source": [
        "def f_b(inp,targ):\n",
        "  l1=lin(inp, w1,b1)\n",
        "  l2=relu(l1)\n",
        "  out=lin(l2,w2,b2)\n",
        "  loss= mse(out, targ)\n",
        "\n",
        "  mse_grad(out,targ)\n",
        "  lin_grad(l2, out, w2, b2)\n",
        "  relu_grad(l1,l2)\n",
        "  lin_grad(inp, l1, w1, b1)"
      ],
      "execution_count": 0,
      "outputs": []
    },
    {
      "cell_type": "markdown",
      "metadata": {
        "id": "DL6oVMWkQcVE",
        "colab_type": "text"
      },
      "source": [
        "#**refactory to classes**"
      ]
    },
    {
      "cell_type": "code",
      "metadata": {
        "id": "d0vrD3_6w6sr",
        "colab_type": "code",
        "colab": {}
      },
      "source": [
        "class relu():\n",
        "  def __call__(self,inp):\n",
        "    self.inp=inp\n",
        "    self.out=inp.clamp_min(0.)-0.5\n",
        "    return self.out\n",
        "  \n",
        "  def backward(self): \n",
        "    self.inp.g=(self.int>0).float()*self.out.g"
      ],
      "execution_count": 0,
      "outputs": []
    },
    {
      "cell_type": "code",
      "metadata": {
        "id": "lquKny_H0HYW",
        "colab_type": "code",
        "colab": {}
      },
      "source": [
        "class linear():\n",
        "  def __init__(slef, w, b):\n",
        "    self.w = w\n",
        "    self.b = b \n",
        "  def __call__(self, inp): \n",
        "    self.inp=inp\n",
        "    self.out= inp @ self.w + self.b \n",
        "    return self.out\n",
        "  def backward(self): \n",
        "    self.inp.g= self.out.g @ self.w.t()\n",
        "    self.w.g= (self.inp.unsqueeze(-1) * self.out.g.unsqeeze(-1)).sum(0)\n",
        "    self.b.g= self.out.g.sum(0)\n"
      ],
      "execution_count": 0,
      "outputs": []
    },
    {
      "cell_type": "code",
      "metadata": {
        "id": "gLEUClgc8j53",
        "colab_type": "code",
        "colab": {}
      },
      "source": [
        "class mse(): \n",
        "  def __call__(self,inp, targ):\n",
        "    self.inp = inp\n",
        "    self.targ = targ\n",
        "    self.out = (self.inp.unsqueeze()-self.targ).pow(2).mean()\n",
        "  def backward(self):\n",
        "    self.inp.g= 2*(self.inp.unqueeze()-self.targ).unsqueeze(-1)/self.targ.shape[0]\n"
      ],
      "execution_count": 0,
      "outputs": []
    },
    {
      "cell_type": "code",
      "metadata": {
        "id": "B7EH_AGIJY26",
        "colab_type": "code",
        "colab": {}
      },
      "source": [
        "class model ():\n",
        "  def __init__(self, w1,b1,w2,b2):\n",
        "    self.layer= [lin(w1,b1),relu(), lin(w2,b2)]\n",
        "    self.loss=mse()\n",
        "  def __call__(self, x, targ):\n",
        "    for l in self.layer: x=l(x)\n",
        "    return self.loss(x, targ)\n",
        "  def backward(self):\n",
        "    self.loss.backards()\n",
        "    for l in reversed(self.layer): \n",
        "      l.backward()"
      ],
      "execution_count": 0,
      "outputs": []
    },
    {
      "cell_type": "markdown",
      "metadata": {
        "id": "H87XJVKkkQNg",
        "colab_type": "text"
      },
      "source": [
        "# modulize "
      ]
    },
    {
      "cell_type": "code",
      "metadata": {
        "id": "7FimZQsfM7v_",
        "colab_type": "code",
        "colab": {}
      },
      "source": [
        "class Module ():\n",
        "  def __call__(self, *args):\n",
        "    self.args= args\n",
        "    self.out=self.forward(*args)\n",
        "    return self.out\n",
        "  def forward(self): raise Exception('Not Implemented')\n",
        "  def backward(self): self.bwd(self.out, *self.args)"
      ],
      "execution_count": 0,
      "outputs": []
    },
    {
      "cell_type": "code",
      "metadata": {
        "id": "IDf2JW5bNkfl",
        "colab_type": "code",
        "colab": {}
      },
      "source": [
        "class relu(Module):\n",
        "  def forward(self, inp): return inp.clamp_min(0.)-0.5\n",
        "  def bwd(self, out, inp): inp.g=(inp>0).float()*out.g"
      ],
      "execution_count": 0,
      "outputs": []
    },
    {
      "cell_type": "code",
      "metadata": {
        "id": "9ti823OgONPo",
        "colab_type": "code",
        "colab": {}
      },
      "source": [
        "class lin(Module):\n",
        "  def __init__(self,w,b): self.w, self.b= w,b\n",
        "  def forward(self, inp): return inp@self.w + self.b\n",
        "  def bwd(self, out, inp): \n",
        "    inp.g= out.g @ self.w.t()\n",
        "    self.w.g = inp.t()@ out.g\n",
        "    self.b.g = out.g.sum(0)"
      ],
      "execution_count": 0,
      "outputs": []
    },
    {
      "cell_type": "code",
      "metadata": {
        "id": "n2Uqrnx_SIVa",
        "colab_type": "code",
        "colab": {}
      },
      "source": [
        "class mse(Module):\n",
        "  def forward(self, inp, targ): return (inp.squeeze()-targ).pow(2).mean()\n",
        "  def bwd(self, out, inp, targ): inp.g= 2*(inp.squeeze()-targ).unsqueeze(-1)/targ.shape[0]"
      ],
      "execution_count": 0,
      "outputs": []
    },
    {
      "cell_type": "code",
      "metadata": {
        "id": "vn6FM11qTJBm",
        "colab_type": "code",
        "colab": {}
      },
      "source": [
        "class model():\n",
        "  def __init__(self,w1,b1,w2,b2): \n",
        "    self.layers =[lin(w1,b1),relu(),lin(w2,b2)]\n",
        "    self.loss=mse()\n",
        "  def __call__(self, x, targ):\n",
        "    for l in self.layers: x= l(x)\n",
        "    return self.loss(x,targ)\n",
        "  def backward(self): \n",
        "    self.loss.backward()\n",
        "    for l in reversed(self.layers): l.backward()"
      ],
      "execution_count": 0,
      "outputs": []
    },
    {
      "cell_type": "code",
      "metadata": {
        "id": "4WMBPPTwbN_p",
        "colab_type": "code",
        "colab": {}
      },
      "source": [
        "w1.g, b1.g, w2.g, b2.g =[None]*4\n",
        "m1=model(w1,b1,w2,b2)"
      ],
      "execution_count": 0,
      "outputs": []
    },
    {
      "cell_type": "code",
      "metadata": {
        "id": "a8nvsLlXbZs4",
        "colab_type": "code",
        "colab": {
          "base_uri": "https://localhost:8080/",
          "height": 51
        },
        "outputId": "e97b9a3f-98df-4549-cbad-0ffd4dc76999"
      },
      "source": [
        "%time loss=m1(x_train,y_train)"
      ],
      "execution_count": 18,
      "outputs": [
        {
          "output_type": "stream",
          "text": [
            "CPU times: user 120 ms, sys: 2.32 ms, total: 122 ms\n",
            "Wall time: 130 ms\n"
          ],
          "name": "stdout"
        }
      ]
    },
    {
      "cell_type": "code",
      "metadata": {
        "id": "F5kLYwPdmOak",
        "colab_type": "code",
        "colab": {
          "base_uri": "https://localhost:8080/",
          "height": 51
        },
        "outputId": "5458d915-5922-435e-941a-21876e0fb45a"
      },
      "source": [
        "%time m1.backward()"
      ],
      "execution_count": 19,
      "outputs": [
        {
          "output_type": "stream",
          "text": [
            "CPU times: user 230 ms, sys: 641 µs, total: 231 ms\n",
            "Wall time: 235 ms\n"
          ],
          "name": "stdout"
        }
      ]
    },
    {
      "cell_type": "markdown",
      "metadata": {
        "id": "BAaYak9idlgK",
        "colab_type": "text"
      },
      "source": [
        "#Test the results"
      ]
    },
    {
      "cell_type": "code",
      "metadata": {
        "id": "Btry7gStkhUR",
        "colab_type": "code",
        "colab": {}
      },
      "source": [
        "w1g=w1.g.clone()\n",
        "b1g=b1.g.clone()\n",
        "w2g=w2.g.clone()\n",
        "b2g=b2.g.clone()\n",
        "ig=x_train.g.clone()"
      ],
      "execution_count": 0,
      "outputs": []
    },
    {
      "cell_type": "code",
      "metadata": {
        "id": "34C25uVidx8v",
        "colab_type": "code",
        "colab": {}
      },
      "source": [
        "xt2= x_train.clone().requires_grad_(True)\n",
        "w12= w1.clone().requires_grad_(True)\n",
        "b12= b1.clone().requires_grad_(True)\n",
        "w22 = w2.clone().requires_grad_(True)\n",
        "b22 = b2.clone().requires_grad_(True)"
      ],
      "execution_count": 0,
      "outputs": []
    },
    {
      "cell_type": "code",
      "metadata": {
        "id": "zho1Ud5_qn5L",
        "colab_type": "code",
        "colab": {}
      },
      "source": [
        "def mse_t(output, targ): return (output.squeeze(-1) - targ).pow(2).mean()"
      ],
      "execution_count": 0,
      "outputs": []
    },
    {
      "cell_type": "code",
      "metadata": {
        "id": "qO2IsLooeEbY",
        "colab_type": "code",
        "colab": {}
      },
      "source": [
        "def forward(inp, targ):\n",
        "  l1=inp @ w12 + b12\n",
        "  l2= l1.clamp_min(0.)-0.5\n",
        "  out = l2@ w22 + b22\n",
        "  return mse_t(out,targ)"
      ],
      "execution_count": 0,
      "outputs": []
    },
    {
      "cell_type": "code",
      "metadata": {
        "id": "dcacrkGvjPsW",
        "colab_type": "code",
        "colab": {}
      },
      "source": [
        "loss2=forward(xt2, y_train)"
      ],
      "execution_count": 0,
      "outputs": []
    },
    {
      "cell_type": "code",
      "metadata": {
        "id": "hSACVdgPqKgd",
        "colab_type": "code",
        "colab": {}
      },
      "source": [
        "loss2.backward()"
      ],
      "execution_count": 0,
      "outputs": []
    },
    {
      "cell_type": "code",
      "metadata": {
        "id": "YlgexBXkrGXp",
        "colab_type": "code",
        "colab": {
          "base_uri": "https://localhost:8080/",
          "height": 34
        },
        "outputId": "6478ffc9-82c9-42ae-d5a4-4825d06bc9a4"
      },
      "source": [
        "near(w1g,w12.grad)\n",
        "near(b1g,b12.grad)\n",
        "near(w2g,w22.grad)\n",
        "near(b2g,b22.grad)\n",
        "near(ig,xt2.grad)"
      ],
      "execution_count": 35,
      "outputs": [
        {
          "output_type": "execute_result",
          "data": {
            "text/plain": [
              "True"
            ]
          },
          "metadata": {
            "tags": []
          },
          "execution_count": 35
        }
      ]
    }
  ]
}