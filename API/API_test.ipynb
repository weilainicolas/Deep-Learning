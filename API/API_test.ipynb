{
 "cells": [
  {
   "cell_type": "code",
   "execution_count": 3,
   "metadata": {},
   "outputs": [],
   "source": [
    "import requests\n",
    "import json"
   ]
  },
  {
   "cell_type": "markdown",
   "metadata": {},
   "source": [
    "# 0 Search API"
   ]
  },
  {
   "cell_type": "markdown",
   "metadata": {},
   "source": [
    "### 0.1 Search warehouses by zipcode or city and state"
   ]
  },
  {
   "cell_type": "code",
   "execution_count": 112,
   "metadata": {},
   "outputs": [],
   "source": [
    "# by zipcode\n",
    "search=requests.get('http://127.0.0.1:8000/search/?zipcode=97801')#34.220.213.13"
   ]
  },
  {
   "cell_type": "code",
   "execution_count": 113,
   "metadata": {},
   "outputs": [
    {
     "data": {
      "text/plain": [
       "<Response [200]>"
      ]
     },
     "execution_count": 113,
     "metadata": {},
     "output_type": "execute_result"
    }
   ],
   "source": [
    "search"
   ]
  },
  {
   "cell_type": "code",
   "execution_count": 114,
   "metadata": {
    "scrolled": true
   },
   "outputs": [
    {
     "data": {
      "text/plain": [
       "'[{\"id\": 1, \"warehouse_owner\": 1, \"warehouse_name\": \"CH Robinson LAX\", \"description\": \"large space, handles cross dock, palletizing, pick and pack\", \"address\": \"9807 S Colima Ave\", \"city\": \"Rowland Heights\", \"state\": \"CA\", \"zipcode\": 97801, \"price\": \"{\\'service_1\\':100, \\'service_2\\':200, \\'service_3\\':150}\", \"image_url\": \"[url_1, url_2, url_3]\", \"verified\": false, \"area\": 100000, \"rating\": 0.0, \"rate_count\": null}]'"
      ]
     },
     "execution_count": 114,
     "metadata": {},
     "output_type": "execute_result"
    }
   ],
   "source": [
    "search.text"
   ]
  },
  {
   "cell_type": "markdown",
   "metadata": {},
   "source": [
    "### 0.1.1 filter"
   ]
  },
  {
   "cell_type": "code",
   "execution_count": 129,
   "metadata": {},
   "outputs": [],
   "source": [
    "# by zipcode\n",
    "search=requests.get('http://34.220.213.13:8000/search/?zipcode=97801&area=20000')"
   ]
  },
  {
   "cell_type": "code",
   "execution_count": 130,
   "metadata": {
    "scrolled": true
   },
   "outputs": [
    {
     "data": {
      "text/plain": [
       "<Response [200]>"
      ]
     },
     "execution_count": 130,
     "metadata": {},
     "output_type": "execute_result"
    }
   ],
   "source": [
    "search"
   ]
  },
  {
   "cell_type": "code",
   "execution_count": 131,
   "metadata": {},
   "outputs": [
    {
     "data": {
      "text/plain": [
       "'[{\"id\": 1, \"warehouse_owner\": 1, \"warehouse_name\": \"CH Robinson LAX\", \"description\": \"large space, handles cross dock, palletizing, pick and pack\", \"address\": \"9807 S Colima Ave\", \"city\": \"Rowland Heights\", \"state\": \"CA\", \"zipcode\": 97801, \"price\": \"{\\'service_1\\':200, \\'service_2\\':200, \\'service_3\\':150}\", \"image_url\": \"[url_1, url_2, url_3]\", \"verified\": false, \"area\": 200000, \"rating\": 0.0, \"rate_count\": null}]'"
      ]
     },
     "execution_count": 131,
     "metadata": {},
     "output_type": "execute_result"
    }
   ],
   "source": [
    "search.text"
   ]
  },
  {
   "cell_type": "markdown",
   "metadata": {},
   "source": [
    "### 0.2 Retrieve ads by zipcode or city and state"
   ]
  },
  {
   "cell_type": "code",
   "execution_count": 326,
   "metadata": {},
   "outputs": [],
   "source": [
    "#by zipcode\n",
    "ads=requests.get('http://34.220.213.13:8000/search_ads/?zipcode=97801')#34.220.213.13"
   ]
  },
  {
   "cell_type": "code",
   "execution_count": 327,
   "metadata": {},
   "outputs": [
    {
     "data": {
      "text/plain": [
       "<Response [200]>"
      ]
     },
     "execution_count": 327,
     "metadata": {},
     "output_type": "execute_result"
    }
   ],
   "source": [
    "ads"
   ]
  },
  {
   "cell_type": "code",
   "execution_count": 328,
   "metadata": {},
   "outputs": [
    {
     "data": {
      "text/plain": [
       "'[]'"
      ]
     },
     "execution_count": 328,
     "metadata": {},
     "output_type": "execute_result"
    }
   ],
   "source": [
    "ads.text"
   ]
  },
  {
   "cell_type": "code",
   "execution_count": 191,
   "metadata": {},
   "outputs": [],
   "source": [
    "# by city and state\n",
    "ads_2=requests.get('http://127.0.0.1:8000/search_ads/?city=Los Angeles&state=CA')"
   ]
  },
  {
   "cell_type": "code",
   "execution_count": 192,
   "metadata": {},
   "outputs": [
    {
     "data": {
      "text/plain": [
       "<Response [200]>"
      ]
     },
     "execution_count": 192,
     "metadata": {},
     "output_type": "execute_result"
    }
   ],
   "source": [
    "ads_2"
   ]
  },
  {
   "cell_type": "code",
   "execution_count": 193,
   "metadata": {
    "scrolled": true
   },
   "outputs": [
    {
     "data": {
      "text/plain": [
       "''"
      ]
     },
     "execution_count": 193,
     "metadata": {},
     "output_type": "execute_result"
    }
   ],
   "source": [
    "ads_2.text"
   ]
  },
  {
   "cell_type": "markdown",
   "metadata": {},
   "source": [
    "# 1 Test ads api"
   ]
  },
  {
   "cell_type": "markdown",
   "metadata": {},
   "source": [
    "### 1.1 Retrieve all ads for a warehouse"
   ]
  },
  {
   "cell_type": "code",
   "execution_count": 213,
   "metadata": {},
   "outputs": [],
   "source": [
    "ads=requests.get('http://127.0.0.1:8000/ads/?warehouse_id=1')#34.220.213.13"
   ]
  },
  {
   "cell_type": "code",
   "execution_count": 214,
   "metadata": {},
   "outputs": [
    {
     "data": {
      "text/plain": [
       "<Response [200]>"
      ]
     },
     "execution_count": 214,
     "metadata": {},
     "output_type": "execute_result"
    }
   ],
   "source": [
    "ads"
   ]
  },
  {
   "cell_type": "code",
   "execution_count": 215,
   "metadata": {},
   "outputs": [
    {
     "data": {
      "text/plain": [
       "'[{\"id\": 1, \"start\": \"2022-01-10T00:00:00-08:00\", \"end\": \"2022-02-10T00:00:00-08:00\", \"status\": \"active\", \"ad_fee\": 800, \"coupon\": 0}, {\"id\": 2, \"start\": \"2022-03-10T00:00:00-08:00\", \"end\": \"2022-04-10T00:00:00-07:00\", \"status\": \"active\", \"ad_fee\": 600, \"coupon\": 0}]'"
      ]
     },
     "execution_count": 215,
     "metadata": {},
     "output_type": "execute_result"
    }
   ],
   "source": [
    "ads.text"
   ]
  },
  {
   "cell_type": "code",
   "execution_count": 202,
   "metadata": {},
   "outputs": [],
   "source": [
    "# by city and state\n",
    "ads_2=requests.get('http://127.0.0.1:8000/ads/?city=Los Angeles&state=CA')"
   ]
  },
  {
   "cell_type": "code",
   "execution_count": 203,
   "metadata": {},
   "outputs": [
    {
     "data": {
      "text/plain": [
       "<Response [200]>"
      ]
     },
     "execution_count": 203,
     "metadata": {},
     "output_type": "execute_result"
    }
   ],
   "source": [
    "ads_2"
   ]
  },
  {
   "cell_type": "code",
   "execution_count": 204,
   "metadata": {},
   "outputs": [
    {
     "data": {
      "text/plain": [
       "'[]'"
      ]
     },
     "execution_count": 204,
     "metadata": {},
     "output_type": "execute_result"
    }
   ],
   "source": [
    "ads_2.text"
   ]
  },
  {
   "cell_type": "markdown",
   "metadata": {},
   "source": [
    "### 1.2 create new ads"
   ]
  },
  {
   "cell_type": "code",
   "execution_count": 384,
   "metadata": {},
   "outputs": [],
   "source": [
    "test={'id':1, 'adswh_set':[{'id':None,'start':'2022-03-10', 'end':'2022-04-10',\n",
    "                            'status':'active','ad_fee':600,'coupon':0,'created_time':'2021-03-28'}]}"
   ]
  },
  {
   "cell_type": "code",
   "execution_count": 385,
   "metadata": {},
   "outputs": [],
   "source": [
    "add_ad=requests.post('http://127.0.0.1:8000/ads/', json=test)"
   ]
  },
  {
   "cell_type": "code",
   "execution_count": 386,
   "metadata": {},
   "outputs": [
    {
     "data": {
      "text/plain": [
       "<Response [201]>"
      ]
     },
     "execution_count": 386,
     "metadata": {},
     "output_type": "execute_result"
    }
   ],
   "source": [
    "add_ad"
   ]
  },
  {
   "cell_type": "code",
   "execution_count": 387,
   "metadata": {},
   "outputs": [
    {
     "data": {
      "text/plain": [
       "'{\"id\": null, \"start\": \"2022-03-10\", \"end\": \"2022-04-10\", \"status\": \"active\", \"ad_fee\": 600, \"coupon\": 0, \"created_time\": \"2021-03-28\"}'"
      ]
     },
     "execution_count": 387,
     "metadata": {},
     "output_type": "execute_result"
    }
   ],
   "source": [
    "add_ad.text"
   ]
  },
  {
   "cell_type": "markdown",
   "metadata": {},
   "source": [
    "### 1.3 update ads"
   ]
  },
  {
   "cell_type": "code",
   "execution_count": 444,
   "metadata": {},
   "outputs": [],
   "source": [
    "test={'id':1, 'adswh_set':[{'id':9,'start':'2020-11-10', 'end':'2020-12-10',\n",
    "                            'status':'active','ad_fee':600,'coupon':0}]}"
   ]
  },
  {
   "cell_type": "code",
   "execution_count": 445,
   "metadata": {},
   "outputs": [],
   "source": [
    "update_ad=requests.post('http://127.0.0.1:8000/ads/', json=test)"
   ]
  },
  {
   "cell_type": "code",
   "execution_count": 446,
   "metadata": {},
   "outputs": [
    {
     "data": {
      "text/plain": [
       "<Response [201]>"
      ]
     },
     "execution_count": 446,
     "metadata": {},
     "output_type": "execute_result"
    }
   ],
   "source": [
    "update_ad"
   ]
  },
  {
   "cell_type": "markdown",
   "metadata": {},
   "source": [
    "# 2 Register and udpate"
   ]
  },
  {
   "cell_type": "markdown",
   "metadata": {},
   "source": [
    "### 2.1 New user register"
   ]
  },
  {
   "cell_type": "code",
   "execution_count": 400,
   "metadata": {},
   "outputs": [],
   "source": [
    "new_user = {'account_type': 2,  #0: sellers, 1: warehouse owner, 2:3P/vendor\n",
    "            'email':'test_1@box.com', \n",
    "            'address': '3322 Hill Ave',\n",
    "            'city':'Seattle',\n",
    "            'state': 'WA',\n",
    "            'zipcode':99872,\n",
    "            'country':'USA', \n",
    "            'phone':7612629462, \n",
    "            'first_name':None,\n",
    "            'last_name':None,\n",
    "            'user_name':'Package provider',\n",
    "            'second_email':'test_2@box.com',\n",
    "            'qq':88989223,\n",
    "            'wechat':'buyboxcheap',\n",
    "            'security_question_1':\"{'question':'city of birth','answer':'chicago'}\",\n",
    "            'security_question_2':\"{'question':'pet's name','answer':'coco'}\",\n",
    "            'security_question_3':\"{'question':'favorite book','answer':'bible'}\",\n",
    "            'tfa':\"{'email':1 ,'google_authenticator':1}\",\n",
    "            'password':'ABCDEF',\n",
    "            'active':True,\n",
    "            'first_charge_amount':None,\n",
    "            'register_time':'2020-11-30'\n",
    "           }"
   ]
  },
  {
   "cell_type": "code",
   "execution_count": 401,
   "metadata": {},
   "outputs": [],
   "source": [
    "user=requests.post('http://127.0.0.1:8000/create_account/', json=new_user)"
   ]
  },
  {
   "cell_type": "code",
   "execution_count": 402,
   "metadata": {
    "scrolled": true
   },
   "outputs": [
    {
     "data": {
      "text/plain": [
       "<Response [201]>"
      ]
     },
     "execution_count": 402,
     "metadata": {},
     "output_type": "execute_result"
    }
   ],
   "source": [
    "user"
   ]
  },
  {
   "cell_type": "markdown",
   "metadata": {},
   "source": [
    "### 2.2 udpate account info"
   ]
  },
  {
   "cell_type": "code",
   "execution_count": 323,
   "metadata": {},
   "outputs": [],
   "source": [
    "update_user = {'id': 1, \n",
    "            'account_type': 1,  #0: sellers, 1: warehouse owner, 2:3P/vendor\n",
    "            'email':'test_1@trailblazer.com', \n",
    "            'address': '3322 Mountain Ave',\n",
    "            'city':'Portland',\n",
    "            'state': 'OR',\n",
    "            'zipcode':98706,\n",
    "            'country':'USA', \n",
    "            'phone':7658762353, \n",
    "            'first_name':None,\n",
    "            'last_name':None,\n",
    "            'user_name':'Trailblazers',\n",
    "            'second_email':'test_2@trailblazer.com',\n",
    "            'qq':None,\n",
    "            'wechat':'wxwxeer',\n",
    "            'security_question_1':\"{'question':'city of birth','answer':'chicago'}\",\n",
    "            'security_question_2':\"{'question':'pet's name','answer':'coco'}\",\n",
    "            'security_question_3':\"{'question':'favorite book','answer':'bible'}\",\n",
    "            'tfa':\"{'email':1 ,'google_authenticator':1}\",\n",
    "            'password':'ABCDEF',\n",
    "            'active':True,\n",
    "            'first_charge_amount':None\n",
    "           }"
   ]
  },
  {
   "cell_type": "code",
   "execution_count": 324,
   "metadata": {},
   "outputs": [],
   "source": [
    "update=requests.post('http://127.0.0.1:8000/update/', json=update_user)"
   ]
  },
  {
   "cell_type": "code",
   "execution_count": 325,
   "metadata": {},
   "outputs": [
    {
     "data": {
      "text/plain": [
       "<Response [201]>"
      ]
     },
     "execution_count": 325,
     "metadata": {},
     "output_type": "execute_result"
    }
   ],
   "source": [
    "update"
   ]
  },
  {
   "cell_type": "markdown",
   "metadata": {},
   "source": [
    "# 3 Test seller api"
   ]
  },
  {
   "cell_type": "markdown",
   "metadata": {},
   "source": [
    "### 3.1 create a new seller"
   ]
  },
  {
   "cell_type": "code",
   "execution_count": 394,
   "metadata": {},
   "outputs": [],
   "source": [
    "new_seller={'id':2, #account id \n",
    "            'seller_name':'Trail blazer',\n",
    "            'annual_sales':10000,\n",
    "            'active':True,\n",
    "            'membership_type':1,\n",
    "            'company_name':None,\n",
    "            'ein':None,\n",
    "            'company_address':None,\n",
    "            'company_city':None,\n",
    "            'company_state':None,\n",
    "            'company_zipcode':None,\n",
    "            'company_country':None,\n",
    "            'president':None\n",
    "           }"
   ]
  },
  {
   "cell_type": "code",
   "execution_count": 395,
   "metadata": {},
   "outputs": [],
   "source": [
    "add_seller=requests.post('http://127.0.0.1:8000/seller/', json=new_seller)#34.220.213.13"
   ]
  },
  {
   "cell_type": "code",
   "execution_count": 396,
   "metadata": {
    "scrolled": false
   },
   "outputs": [
    {
     "data": {
      "text/plain": [
       "<Response [201]>"
      ]
     },
     "execution_count": 396,
     "metadata": {},
     "output_type": "execute_result"
    }
   ],
   "source": [
    "add_seller"
   ]
  },
  {
   "cell_type": "markdown",
   "metadata": {},
   "source": [
    "### 3.2 check details of the seller"
   ]
  },
  {
   "cell_type": "code",
   "execution_count": 430,
   "metadata": {},
   "outputs": [],
   "source": [
    "url='http://34.220.213.13:8000/seller?id=1'"
   ]
  },
  {
   "cell_type": "code",
   "execution_count": 431,
   "metadata": {},
   "outputs": [],
   "source": [
    "r=requests.get(url)"
   ]
  },
  {
   "cell_type": "code",
   "execution_count": 432,
   "metadata": {},
   "outputs": [
    {
     "data": {
      "text/plain": [
       "'[{\"id\": 1, \"seller_name\": \"Trail blazer\", \"annual_sales\": 20000, \"company_name\": null, \"ein\": null, \"company_address\": null, \"company_city\": null, \"company_state\": null, \"company_zipcode\": null, \"company_country\": null, \"president\": null, \"account\": 2, \"membership_type\": 1}]'"
      ]
     },
     "execution_count": 432,
     "metadata": {},
     "output_type": "execute_result"
    }
   ],
   "source": [
    "r.text"
   ]
  },
  {
   "cell_type": "markdown",
   "metadata": {},
   "source": [
    "### 3.3 Update seller info"
   ]
  },
  {
   "cell_type": "code",
   "execution_count": 397,
   "metadata": {},
   "outputs": [],
   "source": [
    "update_seller={'id':2, #account id \n",
    "            'seller_name':'Trail blazer',\n",
    "            'annual_sales':20000,\n",
    "            'active':True,\n",
    "            'membership_type':1,\n",
    "            'company_name':None,\n",
    "            'ein':None,\n",
    "            'company_address':None,\n",
    "            'company_city':None,\n",
    "            'company_state':None,\n",
    "            'company_zipcode':None,\n",
    "            'company_country':None,\n",
    "            'president':None\n",
    "              }"
   ]
  },
  {
   "cell_type": "code",
   "execution_count": 398,
   "metadata": {},
   "outputs": [],
   "source": [
    "update=requests.post('http://127.0.0.1:8000/seller/',json=update_seller)"
   ]
  },
  {
   "cell_type": "code",
   "execution_count": 399,
   "metadata": {},
   "outputs": [
    {
     "data": {
      "text/plain": [
       "<Response [201]>"
      ]
     },
     "execution_count": 399,
     "metadata": {},
     "output_type": "execute_result"
    }
   ],
   "source": [
    "update"
   ]
  },
  {
   "cell_type": "markdown",
   "metadata": {},
   "source": [
    "# 4 Test warehouse owner api"
   ]
  },
  {
   "cell_type": "markdown",
   "metadata": {},
   "source": [
    "### 4.1create a new warehouse owner"
   ]
  },
  {
   "cell_type": "code",
   "execution_count": 378,
   "metadata": {},
   "outputs": [],
   "source": [
    "new_owner={'id': 1, #this is account id\n",
    "            'warehouse_owner_name':'Expeditors', \n",
    "            'membership_type':1,\n",
    "            'company_name':None,\n",
    "            'ein':None,\n",
    "            'company_address':None,\n",
    "            'company_city':None,\n",
    "            'company_state':None,\n",
    "            'company_zipcode':None,\n",
    "            'company_country':None,\n",
    "            'president':None\n",
    "           }"
   ]
  },
  {
   "cell_type": "code",
   "execution_count": 379,
   "metadata": {},
   "outputs": [],
   "source": [
    "add_owner=requests.post('http://127.0.0.1:8000/owner/', json=new_owner)#34.220.213.13"
   ]
  },
  {
   "cell_type": "code",
   "execution_count": 380,
   "metadata": {},
   "outputs": [
    {
     "data": {
      "text/plain": [
       "<Response [201]>"
      ]
     },
     "execution_count": 380,
     "metadata": {},
     "output_type": "execute_result"
    }
   ],
   "source": [
    "add_owner"
   ]
  },
  {
   "cell_type": "markdown",
   "metadata": {},
   "source": [
    "### 4.2 get warehosue owner details"
   ]
  },
  {
   "cell_type": "code",
   "execution_count": 351,
   "metadata": {},
   "outputs": [],
   "source": [
    "r=requests.get('http://127.0.0.1:8000/owner?id=1')#34.220.213.13"
   ]
  },
  {
   "cell_type": "code",
   "execution_count": 352,
   "metadata": {},
   "outputs": [
    {
     "data": {
      "text/plain": [
       "<Response [200]>"
      ]
     },
     "execution_count": 352,
     "metadata": {},
     "output_type": "execute_result"
    }
   ],
   "source": [
    "r"
   ]
  },
  {
   "cell_type": "code",
   "execution_count": 353,
   "metadata": {},
   "outputs": [
    {
     "data": {
      "text/plain": [
       "'[{\"id\": 1, \"warehouse_owner_name\": \"Expeditors\", \"company_name\": \"Expeditors LLC\", \"ein\": null, \"company_address\": null, \"company_city\": null, \"company_state\": null, \"company_zipcode\": null, \"company_country\": null, \"president\": null, \"first_charge_amount\": null, \"account\": 1, \"membership_type\": 1}]'"
      ]
     },
     "execution_count": 353,
     "metadata": {},
     "output_type": "execute_result"
    }
   ],
   "source": [
    "r.text"
   ]
  },
  {
   "cell_type": "markdown",
   "metadata": {},
   "source": [
    "### 4.3 update warehouse owner info"
   ]
  },
  {
   "cell_type": "code",
   "execution_count": 348,
   "metadata": {},
   "outputs": [],
   "source": [
    "update_info={'id': 1, #this is account id\n",
    "            'warehouse_owner_name':'Expeditors', \n",
    "            'membership_type':1,\n",
    "            'company_name':'Expeditors LLC',\n",
    "            'ein':None,\n",
    "            'company_address':None,\n",
    "            'company_city':None,\n",
    "            'company_state':None,\n",
    "            'company_zipcode':None,\n",
    "            'company_country':None,\n",
    "            'president':None,\n",
    "            'first_charge_amount':None\n",
    "           }"
   ]
  },
  {
   "cell_type": "code",
   "execution_count": 349,
   "metadata": {},
   "outputs": [],
   "source": [
    "update_owner=requests.post('http://127.0.0.1:8000/owner/', json=update_info)"
   ]
  },
  {
   "cell_type": "code",
   "execution_count": 350,
   "metadata": {},
   "outputs": [
    {
     "data": {
      "text/plain": [
       "<Response [201]>"
      ]
     },
     "execution_count": 350,
     "metadata": {},
     "output_type": "execute_result"
    }
   ],
   "source": [
    "update_owner"
   ]
  },
  {
   "cell_type": "markdown",
   "metadata": {},
   "source": [
    "# 5 Test warehosue api"
   ]
  },
  {
   "cell_type": "markdown",
   "metadata": {},
   "source": [
    "### 5.1 create a new warehouse"
   ]
  },
  {
   "cell_type": "code",
   "execution_count": 381,
   "metadata": {},
   "outputs": [],
   "source": [
    "new_warehosue={'id':None,\n",
    "               'warehouse_owner_id':1,\n",
    "               'warehouse_name':'CH Robinson LAX',\n",
    "               'address':'9807 S Colima Ave',\n",
    "               'city':'Rowland Heights',\n",
    "               'state':'CA',\n",
    "               'zipcode':97801,\n",
    "               'country':'USA',\n",
    "               'area':100000,\n",
    "               'description':'large space, handles cross dock, palletizing, pick and pack',\n",
    "               'image_url':'[url_1, url_2, url_3]',\n",
    "               'price':\"{'service_1':100, 'service_2':200, 'service_3':150}\",\n",
    "               'active':True,\n",
    "               'register_time':'2020-10-22',\n",
    "               'rating':None\n",
    "              }"
   ]
  },
  {
   "cell_type": "code",
   "execution_count": 382,
   "metadata": {},
   "outputs": [],
   "source": [
    "add_warehouse=requests.post('http://127.0.0.1:8000/warehouse/', json=new_warehosue)"
   ]
  },
  {
   "cell_type": "code",
   "execution_count": 383,
   "metadata": {},
   "outputs": [
    {
     "data": {
      "text/plain": [
       "<Response [201]>"
      ]
     },
     "execution_count": 383,
     "metadata": {},
     "output_type": "execute_result"
    }
   ],
   "source": [
    "add_warehouse"
   ]
  },
  {
   "cell_type": "markdown",
   "metadata": {},
   "source": [
    "### 5.2 Pull all warehouse details for a given owner or a warehouse id"
   ]
  },
  {
   "cell_type": "code",
   "execution_count": 5,
   "metadata": {},
   "outputs": [],
   "source": [
    "warehouses=requests.get('http://127.0.0.1:8000/warehouse/?owner_id=1')"
   ]
  },
  {
   "cell_type": "code",
   "execution_count": 6,
   "metadata": {},
   "outputs": [
    {
     "data": {
      "text/plain": [
       "<Response [200]>"
      ]
     },
     "execution_count": 6,
     "metadata": {},
     "output_type": "execute_result"
    }
   ],
   "source": [
    "warehouses"
   ]
  },
  {
   "cell_type": "code",
   "execution_count": 7,
   "metadata": {
    "scrolled": true
   },
   "outputs": [
    {
     "data": {
      "text/plain": [
       "'[{\"id\": 1, \"warehouse_owner\": 1, \"warehouse_name\": \"CH Robinson LAX\", \"description\": \"large space, handles cross dock, palletizing, pick and pack\", \"address\": \"9807 S Colima Ave\", \"city\": \"Rowland Heights\", \"state\": \"CA\", \"zipcode\": 97801, \"price\": \"{\\'service_1\\':100, \\'service_2\\':200, \\'service_3\\':150}\", \"image_url\": \"[url_1, url_2, url_3]\", \"verified\": false, \"area\": 100000, \"rating\": 0.0, \"rate_count\": 0}]'"
      ]
     },
     "execution_count": 7,
     "metadata": {},
     "output_type": "execute_result"
    }
   ],
   "source": [
    "warehouses.text"
   ]
  },
  {
   "cell_type": "code",
   "execution_count": 12,
   "metadata": {},
   "outputs": [],
   "source": [
    "warehouses=requests.get('http://127.0.0.1:8000/warehouse/?warehouse_id=1')"
   ]
  },
  {
   "cell_type": "code",
   "execution_count": 13,
   "metadata": {},
   "outputs": [
    {
     "data": {
      "text/plain": [
       "<Response [200]>"
      ]
     },
     "execution_count": 13,
     "metadata": {},
     "output_type": "execute_result"
    }
   ],
   "source": [
    "warehouses"
   ]
  },
  {
   "cell_type": "code",
   "execution_count": 14,
   "metadata": {},
   "outputs": [
    {
     "data": {
      "text/plain": [
       "'[{\"id\": 1, \"warehouse_owner\": 1, \"warehouse_name\": \"CH Robinson LAX\", \"description\": \"large space, handles cross dock, palletizing, pick and pack\", \"address\": \"9807 S Colima Ave\", \"city\": \"Rowland Heights\", \"state\": \"CA\", \"zipcode\": 97801, \"price\": \"{\\'service_1\\':100, \\'service_2\\':200, \\'service_3\\':150}\", \"image_url\": \"[url_1, url_2, url_3]\", \"verified\": false, \"area\": 100000, \"rating\": 0.0, \"rate_count\": 0}]'"
      ]
     },
     "execution_count": 14,
     "metadata": {},
     "output_type": "execute_result"
    }
   ],
   "source": [
    "warehouses.text"
   ]
  },
  {
   "cell_type": "markdown",
   "metadata": {},
   "source": [
    "### 5.3 Update warehouse info"
   ]
  },
  {
   "cell_type": "code",
   "execution_count": 121,
   "metadata": {},
   "outputs": [],
   "source": [
    "update_info={'id':1,\n",
    "             'warehouse_owner_id':1,\n",
    "             'warehouse_name':'CH Robinson LAX',\n",
    "             'address':'9807 S Colima Ave',\n",
    "             'city':'Rowland Heights',\n",
    "             'state':'CA',\n",
    "             'zipcode':97801,\n",
    "             'country':'USA',\n",
    "             'area':200000,\n",
    "             'description':'large space, handles cross dock, palletizing, pick and pack',\n",
    "             'image_url':'[url_1, url_2, url_3]',\n",
    "             'price':\"{'service_1':200, 'service_2':200, 'service_3':150}\",\n",
    "             'active':True,\n",
    "             'register_time':'2020-10-22',\n",
    "             'rating':4.5,\n",
    "             'rate_count':10,\n",
    "             'verified':True\n",
    "              }"
   ]
  },
  {
   "cell_type": "code",
   "execution_count": 122,
   "metadata": {},
   "outputs": [],
   "source": [
    "update=requests.post('http://127.0.0.1:8000/warehouse/', json=update_info)"
   ]
  },
  {
   "cell_type": "code",
   "execution_count": 123,
   "metadata": {},
   "outputs": [
    {
     "data": {
      "text/plain": [
       "<Response [201]>"
      ]
     },
     "execution_count": 123,
     "metadata": {},
     "output_type": "execute_result"
    }
   ],
   "source": [
    "update"
   ]
  },
  {
   "cell_type": "markdown",
   "metadata": {},
   "source": [
    "# 6 Test vendor API"
   ]
  },
  {
   "cell_type": "markdown",
   "metadata": {},
   "source": [
    "### 6.1 create a new vendor"
   ]
  },
  {
   "cell_type": "code",
   "execution_count": 406,
   "metadata": {},
   "outputs": [],
   "source": [
    "new_vendor={'id':3,  # account id \n",
    "            'vendor_name':'Box company', \n",
    "            'membership_type':1,\n",
    "            'company_name':'Cheap box package LLC.',\n",
    "            'ein':None,\n",
    "            'company_address':None,\n",
    "            'company_city':None,\n",
    "            'company_state':None,\n",
    "            'company_zipcode':None,\n",
    "            'company_country':None,\n",
    "            'president':None\n",
    "           }"
   ]
  },
  {
   "cell_type": "code",
   "execution_count": 407,
   "metadata": {},
   "outputs": [],
   "source": [
    "add_vendor=requests.post('http://127.0.0.1:8000/vendor/', json=new_vendor)"
   ]
  },
  {
   "cell_type": "code",
   "execution_count": 408,
   "metadata": {},
   "outputs": [
    {
     "data": {
      "text/plain": [
       "<Response [201]>"
      ]
     },
     "execution_count": 408,
     "metadata": {},
     "output_type": "execute_result"
    }
   ],
   "source": [
    "add_vendor"
   ]
  },
  {
   "cell_type": "markdown",
   "metadata": {},
   "source": [
    "### 6.2 retrieve vendor info"
   ]
  },
  {
   "cell_type": "code",
   "execution_count": 409,
   "metadata": {},
   "outputs": [],
   "source": [
    "r=requests.get('http://127.0.0.1:8000/vendor?id=1')"
   ]
  },
  {
   "cell_type": "code",
   "execution_count": 410,
   "metadata": {},
   "outputs": [
    {
     "data": {
      "text/plain": [
       "<Response [200]>"
      ]
     },
     "execution_count": 410,
     "metadata": {},
     "output_type": "execute_result"
    }
   ],
   "source": [
    "r"
   ]
  },
  {
   "cell_type": "code",
   "execution_count": 411,
   "metadata": {},
   "outputs": [
    {
     "data": {
      "text/plain": [
       "\"OrderedDict([('id', 1), ('vendor_name', 'Box company'), ('company_name', 'Cheap box package LLC.'), ('ein', None), ('company_address', None), ('company_city', None), ('company_state', None), ('company_zipcode', None), ('company_country', None), ('president', None), ('account', 3), ('membership_type', 1)])\""
      ]
     },
     "execution_count": 411,
     "metadata": {},
     "output_type": "execute_result"
    }
   ],
   "source": [
    "r.text"
   ]
  },
  {
   "cell_type": "markdown",
   "metadata": {},
   "source": [
    "### 6.3 udpate vendor info"
   ]
  },
  {
   "cell_type": "code",
   "execution_count": 268,
   "metadata": {},
   "outputs": [],
   "source": [
    "updated_info={'id':3,\n",
    "            'vendor_name':'Box company', \n",
    "            'membership_type':1,\n",
    "            'company_name':'Cheap box package LLC.',\n",
    "            'ein':None,\n",
    "            'company_address':None,\n",
    "            'company_city':None,\n",
    "            'company_state':None,\n",
    "            'company_zipcode':None,\n",
    "            'company_country':None,\n",
    "            'president':None\n",
    "           }"
   ]
  },
  {
   "cell_type": "code",
   "execution_count": 269,
   "metadata": {},
   "outputs": [],
   "source": [
    "update_vendor=requests.post('http://127.0.0.1:8000/vendor/', json=updated_info)"
   ]
  },
  {
   "cell_type": "code",
   "execution_count": 270,
   "metadata": {},
   "outputs": [
    {
     "data": {
      "text/plain": [
       "<Response [201]>"
      ]
     },
     "execution_count": 270,
     "metadata": {},
     "output_type": "execute_result"
    }
   ],
   "source": [
    "update_vendor"
   ]
  },
  {
   "cell_type": "markdown",
   "metadata": {},
   "source": [
    "# 7 Test Bankinfo api"
   ]
  },
  {
   "cell_type": "markdown",
   "metadata": {},
   "source": [
    "### 7.1 retrieve bank info"
   ]
  },
  {
   "cell_type": "code",
   "execution_count": 464,
   "metadata": {},
   "outputs": [],
   "source": [
    "url='http://127.0.0.1:8000/card/?id=1&account_type=0'"
   ]
  },
  {
   "cell_type": "code",
   "execution_count": 465,
   "metadata": {},
   "outputs": [],
   "source": [
    "r=requests.get(url)"
   ]
  },
  {
   "cell_type": "code",
   "execution_count": 466,
   "metadata": {},
   "outputs": [
    {
     "data": {
      "text/plain": [
       "\"OrderedDict([('id', 1), ('account_type', 0), ('user_id', 1), ('card_num', 123456789), ('name_on_card', 'Aaron Tyler'), ('expiration_date', '11/24'), ('billing_address', '1361 Kansas St'), ('create_time', '2020-10-27T15:46:22-07:00')])\""
      ]
     },
     "execution_count": 466,
     "metadata": {},
     "output_type": "execute_result"
    }
   ],
   "source": [
    "r.text"
   ]
  },
  {
   "cell_type": "markdown",
   "metadata": {},
   "source": [
    "### 7.2 create bank info"
   ]
  },
  {
   "cell_type": "code",
   "execution_count": 427,
   "metadata": {},
   "outputs": [],
   "source": [
    "form= {'id':None,\n",
    "       'account_id':2,\n",
    "       'card_num':1231294829,\n",
    "       'name_on_card':'James Clean',\n",
    "       'expiration_date':'12/22',\n",
    "       'cvv':654,\n",
    "       'billing_address':'898 4th St.',\n",
    "       'city':'Dallas',\n",
    "       'state': 'TX',\n",
    "       'zipcode':78971,\n",
    "       'country':'USA',\n",
    "       'active':True,\n",
    "       'create_time':'2020-10-27'\n",
    "      }"
   ]
  },
  {
   "cell_type": "code",
   "execution_count": 428,
   "metadata": {},
   "outputs": [],
   "source": [
    "add_bank=requests.post('http://127.0.0.1:8000/card/', json=form)"
   ]
  },
  {
   "cell_type": "code",
   "execution_count": 429,
   "metadata": {
    "scrolled": true
   },
   "outputs": [
    {
     "data": {
      "text/plain": [
       "<Response [201]>"
      ]
     },
     "execution_count": 429,
     "metadata": {},
     "output_type": "execute_result"
    }
   ],
   "source": [
    "add_bank"
   ]
  },
  {
   "cell_type": "markdown",
   "metadata": {},
   "source": [
    "# 8 Test contract api"
   ]
  },
  {
   "cell_type": "markdown",
   "metadata": {},
   "source": [
    "### 8.1 create a contract"
   ]
  },
  {
   "cell_type": "code",
   "execution_count": 148,
   "metadata": {},
   "outputs": [],
   "source": [
    "new_contract={'id':None,\n",
    "              'seller_id':1,\n",
    "              'warehouse_id':1,\n",
    "              'start':'2021-01-01',\n",
    "              'end':'2022-01-01',\n",
    "              'price':\"{'storage':10, 'pick_&_pack':1, 'shipping':0.3}\",\n",
    "              'create_time':'2020-11-02',\n",
    "              'status':'pending'\n",
    "             }"
   ]
  },
  {
   "cell_type": "code",
   "execution_count": 149,
   "metadata": {},
   "outputs": [],
   "source": [
    "add_contract=requests.post('http://127.0.0.1:8000/contract/', json=new_contract)"
   ]
  },
  {
   "cell_type": "code",
   "execution_count": 150,
   "metadata": {
    "scrolled": false
   },
   "outputs": [
    {
     "data": {
      "text/plain": [
       "<Response [201]>"
      ]
     },
     "execution_count": 150,
     "metadata": {},
     "output_type": "execute_result"
    }
   ],
   "source": [
    "add_contract"
   ]
  },
  {
   "cell_type": "markdown",
   "metadata": {},
   "source": [
    "### 8.2 retrieve contracts"
   ]
  },
  {
   "cell_type": "code",
   "execution_count": 527,
   "metadata": {},
   "outputs": [],
   "source": [
    "r=requests.get('http://127.0.0.1:8000/contract?seller_id=2')"
   ]
  },
  {
   "cell_type": "code",
   "execution_count": 528,
   "metadata": {},
   "outputs": [
    {
     "data": {
      "text/plain": [
       "<Response [200]>"
      ]
     },
     "execution_count": 528,
     "metadata": {},
     "output_type": "execute_result"
    }
   ],
   "source": [
    "r"
   ]
  },
  {
   "cell_type": "code",
   "execution_count": 529,
   "metadata": {},
   "outputs": [
    {
     "data": {
      "text/plain": [
       "'OrderedDict([(\\'id\\', 2), (\\'start\\', \\'2021-01-01T00:00:00-08:00\\'), (\\'end\\', \\'2022-01-01T00:00:00-08:00\\'), (\\'price\\', \"{\\'storage\\':10, \\'pick_&_pack\\':1, \\'shipping\\':0.3}\"), (\\'create_time\\', \\'2020-11-02T00:00:00-08:00\\'), (\\'seller\\', 2), (\\'warehouse\\', 1)])'"
      ]
     },
     "execution_count": 529,
     "metadata": {},
     "output_type": "execute_result"
    }
   ],
   "source": [
    "r.text"
   ]
  },
  {
   "cell_type": "code",
   "execution_count": 530,
   "metadata": {},
   "outputs": [],
   "source": [
    "r=requests.get('http://127.0.0.1:8000/contract?warehouse_id=1')"
   ]
  },
  {
   "cell_type": "code",
   "execution_count": 532,
   "metadata": {
    "scrolled": true
   },
   "outputs": [
    {
     "data": {
      "text/plain": [
       "'OrderedDict([(\\'id\\', 2), (\\'start\\', \\'2021-01-01T00:00:00-08:00\\'), (\\'end\\', \\'2022-01-01T00:00:00-08:00\\'), (\\'price\\', \"{\\'storage\\':10, \\'pick_&_pack\\':1, \\'shipping\\':0.3}\"), (\\'create_time\\', \\'2020-11-02T00:00:00-08:00\\'), (\\'seller\\', 2), (\\'warehouse\\', 1)])'"
      ]
     },
     "execution_count": 532,
     "metadata": {},
     "output_type": "execute_result"
    }
   ],
   "source": [
    "r.text"
   ]
  },
  {
   "cell_type": "markdown",
   "metadata": {},
   "source": [
    "### 8.3 update conctract"
   ]
  },
  {
   "cell_type": "code",
   "execution_count": 152,
   "metadata": {},
   "outputs": [],
   "source": [
    "updates={'id':1,\n",
    "              'seller_id':1,\n",
    "              'warehouse_id':1,\n",
    "              'start':'2021-01-01',\n",
    "              'end':'2022-01-01',\n",
    "              'price':\"{'storage':8, 'pick_&_pack':1, 'shipping':0.3}\",\n",
    "              'create_time':'2020-11-02',\n",
    "              'status':'pending'\n",
    "             }"
   ]
  },
  {
   "cell_type": "code",
   "execution_count": 153,
   "metadata": {},
   "outputs": [],
   "source": [
    "update_contract=requests.post('http://127.0.0.1:8000/contract/', json=updates)"
   ]
  },
  {
   "cell_type": "code",
   "execution_count": 155,
   "metadata": {},
   "outputs": [
    {
     "data": {
      "text/plain": [
       "<Response [201]>"
      ]
     },
     "execution_count": 155,
     "metadata": {},
     "output_type": "execute_result"
    }
   ],
   "source": [
    "update_contract"
   ]
  },
  {
   "cell_type": "markdown",
   "metadata": {},
   "source": [
    "### 8.4 Warehouse confirm/reject contract"
   ]
  },
  {
   "cell_type": "code",
   "execution_count": 156,
   "metadata": {},
   "outputs": [],
   "source": [
    "reject={'id':1,\n",
    "              'seller_id':1,\n",
    "              'warehouse_id':1,\n",
    "              'start':'2021-01-01',\n",
    "              'end':'2022-01-01',\n",
    "              'price':\"{'storage':8, 'pick_&_pack':1, 'shipping':0.3}\",\n",
    "              'create_time':'2020-11-02',\n",
    "              'status':'reject'# or 'active' if confirmed\n",
    "             }"
   ]
  },
  {
   "cell_type": "code",
   "execution_count": 157,
   "metadata": {},
   "outputs": [],
   "source": [
    "reject_contract=requests.post('http://127.0.0.1:8000/contract/', json=reject)"
   ]
  },
  {
   "cell_type": "code",
   "execution_count": 158,
   "metadata": {},
   "outputs": [
    {
     "data": {
      "text/plain": [
       "<Response [201]>"
      ]
     },
     "execution_count": 158,
     "metadata": {},
     "output_type": "execute_result"
    }
   ],
   "source": [
    "reject_contract"
   ]
  },
  {
   "cell_type": "markdown",
   "metadata": {},
   "source": [
    "# 9 Test Bill api"
   ]
  },
  {
   "cell_type": "markdown",
   "metadata": {},
   "source": [
    "### 9.1 create a bill"
   ]
  },
  {
   "cell_type": "code",
   "execution_count": 2,
   "metadata": {},
   "outputs": [],
   "source": [
    "new_bill={'id':None,\n",
    "          'contract_id':2,\n",
    "          'start_time':'2020-02-08',\n",
    "          'end_time':'2020-02-09',\n",
    "          'unit':\"{'storage':100, 'pick&pack':200}\",\n",
    "          'comment':None,\n",
    "          'adjust':None,\n",
    "          'total':300,\n",
    "          'created_time':'2020-02-09'\n",
    "         }"
   ]
  },
  {
   "cell_type": "code",
   "execution_count": 3,
   "metadata": {},
   "outputs": [],
   "source": [
    "add_bill=requests.post('http://34.220.213.13:8000/invoice/', json=new_bill)"
   ]
  },
  {
   "cell_type": "code",
   "execution_count": 4,
   "metadata": {},
   "outputs": [
    {
     "data": {
      "text/plain": [
       "<Response [201]>"
      ]
     },
     "execution_count": 4,
     "metadata": {},
     "output_type": "execute_result"
    }
   ],
   "source": [
    "add_bill"
   ]
  },
  {
   "cell_type": "markdown",
   "metadata": {},
   "source": [
    "### 9.2 check bills"
   ]
  },
  {
   "cell_type": "code",
   "execution_count": 28,
   "metadata": {},
   "outputs": [],
   "source": [
    "r=requests.get('http://34.220.213.13:8000/invoice?seller_id=2')"
   ]
  },
  {
   "cell_type": "code",
   "execution_count": 29,
   "metadata": {},
   "outputs": [
    {
     "data": {
      "text/plain": [
       "<Response [200]>"
      ]
     },
     "execution_count": 29,
     "metadata": {},
     "output_type": "execute_result"
    }
   ],
   "source": [
    "r"
   ]
  },
  {
   "cell_type": "code",
   "execution_count": 30,
   "metadata": {},
   "outputs": [
    {
     "data": {
      "text/plain": [
       "'[OrderedDict([(\\'id\\', 2), (\\'start_time\\', \\'2020-02-01T00:00:00-08:00\\'), (\\'end_time\\', \\'2020-02-07T00:00:00-08:00\\'), (\\'unit\\', \"{\\'storage\\':100, \\'pick&pack\\':200}\"), (\\'comment\\', None), (\\'adjust\\', None), (\\'total\\', 300), (\\'confirmed\\', True), (\\'paid\\', True), (\\'warehouse_received\\', False), (\\'active\\', False), (\\'created_time\\', \\'2020-02-09T00:00:00-08:00\\'), (\\'contract\\', 2)]), OrderedDict([(\\'id\\', 3), (\\'start_time\\', \\'2020-02-01T00:00:00-08:00\\'), (\\'end_time\\', \\'2020-02-07T00:00:00-08:00\\'), (\\'unit\\', \"{\\'storage\\':100, \\'pick&pack\\':200}\"), (\\'comment\\', None), (\\'adjust\\', None), (\\'total\\', 300), (\\'confirmed\\', None), (\\'paid\\', False), (\\'warehouse_received\\', False), (\\'active\\', True), (\\'created_time\\', \\'2020-02-09T00:00:00-08:00\\'), (\\'contract\\', 2)])][]'"
      ]
     },
     "execution_count": 30,
     "metadata": {},
     "output_type": "execute_result"
    }
   ],
   "source": [
    "r.text"
   ]
  },
  {
   "cell_type": "code",
   "execution_count": 588,
   "metadata": {},
   "outputs": [],
   "source": [
    "r=requests.get('http://127.0.0.1:8000/invoice?warehouse_id=1')"
   ]
  },
  {
   "cell_type": "code",
   "execution_count": 589,
   "metadata": {},
   "outputs": [
    {
     "data": {
      "text/plain": [
       "'[OrderedDict([(\\'id\\', 2), (\\'start_time\\', \\'2020-02-01T00:00:00-08:00\\'), (\\'end_time\\', \\'2020-02-07T00:00:00-08:00\\'), (\\'unit\\', \"{\\'storage\\':100, \\'pick&pack\\':200}\"), (\\'comment\\', None), (\\'adjust\\', None), (\\'total\\', 300), (\\'confirmed\\', True), (\\'paid\\', True), (\\'warehouse_received\\', False), (\\'active\\', False), (\\'created_time\\', \\'2020-02-09T00:00:00-08:00\\'), (\\'contract\\', 2)])]'"
      ]
     },
     "execution_count": 589,
     "metadata": {},
     "output_type": "execute_result"
    }
   ],
   "source": [
    "r.text"
   ]
  },
  {
   "cell_type": "markdown",
   "metadata": {},
   "source": [
    "### 9.3 update bills"
   ]
  },
  {
   "cell_type": "code",
   "execution_count": 566,
   "metadata": {},
   "outputs": [],
   "source": [
    "update_bill={'id':2,\n",
    "             'confirmed':False,\n",
    "             'paid':True,\n",
    "             'warehouse_received':False\n",
    "            }"
   ]
  },
  {
   "cell_type": "code",
   "execution_count": 573,
   "metadata": {},
   "outputs": [],
   "source": [
    "update=requests.post('http://127.0.0.1:8000/invoice/', json=update_bill)"
   ]
  },
  {
   "cell_type": "code",
   "execution_count": 575,
   "metadata": {
    "scrolled": true
   },
   "outputs": [
    {
     "data": {
      "text/plain": [
       "'{\"error\": \"need to confirm the invoice before pay\"}'"
      ]
     },
     "execution_count": 575,
     "metadata": {},
     "output_type": "execute_result"
    }
   ],
   "source": [
    "update.text"
   ]
  },
  {
   "cell_type": "code",
   "execution_count": 585,
   "metadata": {},
   "outputs": [],
   "source": [
    "update_bill={'id':2,\n",
    "             'confirmed':True,\n",
    "             'paid':True,\n",
    "             'warehouse_received':False\n",
    "            }"
   ]
  },
  {
   "cell_type": "code",
   "execution_count": 586,
   "metadata": {},
   "outputs": [],
   "source": [
    "update=requests.post('http://127.0.0.1:8000/invoice/', json=update_bill)"
   ]
  },
  {
   "cell_type": "code",
   "execution_count": 587,
   "metadata": {},
   "outputs": [
    {
     "data": {
      "text/plain": [
       "<Response [201]>"
      ]
     },
     "execution_count": 587,
     "metadata": {},
     "output_type": "execute_result"
    }
   ],
   "source": [
    "update"
   ]
  },
  {
   "cell_type": "markdown",
   "metadata": {},
   "source": [
    "# 10 Login"
   ]
  },
  {
   "cell_type": "code",
   "execution_count": 25,
   "metadata": {},
   "outputs": [],
   "source": [
    "login={'email':'test_1@trailblazer.com',\n",
    "       'password':'ABCDEFG',\n",
    "       'user_type':0\n",
    "      }"
   ]
  },
  {
   "cell_type": "code",
   "execution_count": 37,
   "metadata": {},
   "outputs": [],
   "source": [
    "r=requests.post('http://127.0.0.1:8000/login/', json=login)#34.220.213.13"
   ]
  },
  {
   "cell_type": "code",
   "execution_count": 38,
   "metadata": {},
   "outputs": [
    {
     "data": {
      "text/plain": [
       "<Response [200]>"
      ]
     },
     "execution_count": 38,
     "metadata": {},
     "output_type": "execute_result"
    }
   ],
   "source": [
    "r"
   ]
  },
  {
   "cell_type": "code",
   "execution_count": 39,
   "metadata": {},
   "outputs": [
    {
     "data": {
      "text/plain": [
       "'{\"code\": -1, \"message\": \"User does not exist.\", \"data\": {\"email\": \"test_1@trailblazer.com\", \"password\": \"ABCDEFG\", \"user_type\": 0}}'"
      ]
     },
     "execution_count": 39,
     "metadata": {},
     "output_type": "execute_result"
    }
   ],
   "source": [
    "r.text"
   ]
  },
  {
   "cell_type": "code",
   "execution_count": 647,
   "metadata": {},
   "outputs": [],
   "source": [
    "login={'email':'test_1@trailblazer.com',\n",
    "       'password':'ABCDEF',\n",
    "       'user_type':0\n",
    "      }"
   ]
  },
  {
   "cell_type": "code",
   "execution_count": 648,
   "metadata": {},
   "outputs": [],
   "source": [
    "r=requests.post('http://127.0.0.1:8000/login/', json=login)"
   ]
  },
  {
   "cell_type": "code",
   "execution_count": 649,
   "metadata": {},
   "outputs": [
    {
     "data": {
      "text/plain": [
       "<Response [200]>"
      ]
     },
     "execution_count": 649,
     "metadata": {},
     "output_type": "execute_result"
    }
   ],
   "source": [
    "r"
   ]
  },
  {
   "cell_type": "code",
   "execution_count": 650,
   "metadata": {},
   "outputs": [
    {
     "data": {
      "text/plain": [
       "'error:password is incorrect.'"
      ]
     },
     "execution_count": 650,
     "metadata": {},
     "output_type": "execute_result"
    }
   ],
   "source": [
    "r.text"
   ]
  },
  {
   "cell_type": "markdown",
   "metadata": {},
   "source": [
    "# 11 User Log"
   ]
  },
  {
   "cell_type": "code",
   "execution_count": 640,
   "metadata": {},
   "outputs": [],
   "source": [
    "info={'login_time':'2020-11-12 23:34:33',\n",
    "     'user_type':0,\n",
    "     'user_id':1,\n",
    "     'login_ip':'192.168.1.1',\n",
    "     'mac_address':'adlfjaldkfj',\n",
    "     'operation':'log in',\n",
    "     'page_type':'log in page',\n",
    "     'time_on_page':10\n",
    "    }"
   ]
  },
  {
   "cell_type": "code",
   "execution_count": 645,
   "metadata": {},
   "outputs": [],
   "source": [
    "log=requests.post('http://127.0.0.1:8000/userlog/', json=info)"
   ]
  },
  {
   "cell_type": "code",
   "execution_count": 646,
   "metadata": {},
   "outputs": [
    {
     "data": {
      "text/plain": [
       "<Response [201]>"
      ]
     },
     "execution_count": 646,
     "metadata": {},
     "output_type": "execute_result"
    }
   ],
   "source": [
    "log"
   ]
  },
  {
   "cell_type": "code",
   "execution_count": 639,
   "metadata": {},
   "outputs": [
    {
     "data": {
      "text/plain": [
       "'\\nonly create and retrive, not update\\n1 billing \\n2 contract\\n3 user log \\n4 log in ( SHA1(\"password\"+salt:(\\'xxxxxx\\')) )\\n\\n数据库 固定IP访问\\n用户没有删除权限，只有查，看\\nAPI 不同的表，不同数据库用户名访问\\nsite map: # of pages\\n'"
      ]
     },
     "execution_count": 639,
     "metadata": {},
     "output_type": "execute_result"
    }
   ],
   "source": [
    "\"\"\"\n",
    "only create and retrive, not update\n",
    "1 billing \n",
    "2 contract\n",
    "3 user log \n",
    "4 log in ( SHA1(\"password\"+salt:('xxxxxx')) )\n",
    "\n",
    "数据库 固定IP访问\n",
    "用户没有删除权限，只有查，看\n",
    "API 不同的表，不同数据库用户名访问\n",
    "site map: # of pages\n",
    "\"\"\"\n"
   ]
  },
  {
   "cell_type": "code",
   "execution_count": 683,
   "metadata": {},
   "outputs": [],
   "source": [
    "def total(year):\n",
    "    m=year*12\n",
    "    month=5000\n",
    "    fund=30000\n",
    "    year_rate=.2\n",
    "    for i in range(m):\n",
    "        fund=fund*(1+year_rate/12)+month\n",
    "    return fund"
   ]
  },
  {
   "cell_type": "code",
   "execution_count": 685,
   "metadata": {},
   "outputs": [
    {
     "data": {
      "text/plain": [
       "18045651830.2894"
      ]
     },
     "execution_count": 685,
     "metadata": {},
     "output_type": "execute_result"
    }
   ],
   "source": [
    "total(55)"
   ]
  },
  {
   "cell_type": "code",
   "execution_count": null,
   "metadata": {},
   "outputs": [],
   "source": []
  }
 ],
 "metadata": {
  "kernelspec": {
   "display_name": "Python 3",
   "language": "python",
   "name": "python3"
  },
  "language_info": {
   "codemirror_mode": {
    "name": "ipython",
    "version": 3
   },
   "file_extension": ".py",
   "mimetype": "text/x-python",
   "name": "python",
   "nbconvert_exporter": "python",
   "pygments_lexer": "ipython3",
   "version": "3.8.5"
  }
 },
 "nbformat": 4,
 "nbformat_minor": 2
}
