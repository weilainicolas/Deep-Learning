{
  "nbformat": 4,
  "nbformat_minor": 0,
  "metadata": {
    "colab": {
      "name": "L9_Min_batch_training",
      "provenance": [],
      "collapsed_sections": [],
      "include_colab_link": true
    },
    "kernelspec": {
      "name": "python3",
      "display_name": "Python 3"
    }
  },
  "cells": [
    {
      "cell_type": "markdown",
      "metadata": {
        "id": "view-in-github",
        "colab_type": "text"
      },
      "source": [
        "<a href=\"https://colab.research.google.com/github/weilainicolas/Deep-Learning/blob/master/L9_Min_batch_training.ipynb\" target=\"_parent\"><img src=\"https://colab.research.google.com/assets/colab-badge.svg\" alt=\"Open In Colab\"/></a>"
      ]
    },
    {
      "cell_type": "code",
      "metadata": {
        "id": "kJHwQlOc5AhP",
        "colab_type": "code",
        "colab": {}
      },
      "source": [
        "from pathlib import Path\n",
        "from IPython.core.debugger import set_trace\n",
        "from fastai import datasets\n",
        "import pickle, gzip, math, torch, matplotlib as mpl\n",
        "import matplotlib.pyplot as plt\n",
        "from torch import tensor\n",
        "from torch import nn"
      ],
      "execution_count": 0,
      "outputs": []
    },
    {
      "cell_type": "code",
      "metadata": {
        "id": "lN3mn4Q2d8hp",
        "colab_type": "code",
        "colab": {}
      },
      "source": [
        "#export\n",
        "def get_data():\n",
        "  MNIST_URL='http://deeplearning.net/data/mnist/mnist.pkl'\n",
        "  path=datasets.download_data(MNIST_URL,ext='.gz'); \n",
        "  with gzip.open(path,'rb') as f:\n",
        "    ((x_train, y_train),(x_valid, y_valid),_)=pickle.load(f, encoding='latin-1')\n",
        "  return map(tensor,(x_train, y_train, x_valid,y_valid))\n",
        "\n",
        "def normalize(x,m,s): return (x-m)/s"
      ],
      "execution_count": 0,
      "outputs": []
    },
    {
      "cell_type": "code",
      "metadata": {
        "id": "nJ4PrbdHftC8",
        "colab_type": "code",
        "outputId": "6932beb9-f2c3-49b4-e021-6dab3e53b930",
        "colab": {
          "base_uri": "https://localhost:8080/",
          "height": 34
        }
      },
      "source": [
        "x_train, y_train, x_valid, y_valid = get_data()"
      ],
      "execution_count": 3,
      "outputs": [
        {
          "output_type": "stream",
          "text": [
            "Downloading http://deeplearning.net/data/mnist/mnist.pkl\n"
          ],
          "name": "stdout"
        },
        {
          "output_type": "display_data",
          "data": {
            "text/html": [
              ""
            ],
            "text/plain": [
              "<IPython.core.display.HTML object>"
            ]
          },
          "metadata": {
            "tags": []
          }
        }
      ]
    },
    {
      "cell_type": "code",
      "metadata": {
        "id": "mDyf0201fyy-",
        "colab_type": "code",
        "colab": {}
      },
      "source": [
        "mpl.rcParams['image.cmap']='gray'"
      ],
      "execution_count": 0,
      "outputs": []
    },
    {
      "cell_type": "code",
      "metadata": {
        "id": "n1GWtr4hgMkQ",
        "colab_type": "code",
        "colab": {}
      },
      "source": [
        "r,c = x_train.shape\n",
        "cat=y_train.max()+1\n",
        "cat=cat.item()\n",
        "rh=50"
      ],
      "execution_count": 0,
      "outputs": []
    },
    {
      "cell_type": "code",
      "metadata": {
        "id": "H8DIdUJXzTMf",
        "colab_type": "code",
        "outputId": "299428f3-a98e-4b88-9494-769e86f63b5e",
        "colab": {
          "base_uri": "https://localhost:8080/",
          "height": 34
        }
      },
      "source": [
        "r,c,rh,cat"
      ],
      "execution_count": 6,
      "outputs": [
        {
          "output_type": "execute_result",
          "data": {
            "text/plain": [
              "(50000, 784, 50, 10)"
            ]
          },
          "metadata": {
            "tags": []
          },
          "execution_count": 6
        }
      ]
    },
    {
      "cell_type": "code",
      "metadata": {
        "id": "0oYEogq9gWUL",
        "colab_type": "code",
        "colab": {}
      },
      "source": [
        "class Model(nn.Module):\n",
        "  def __init__(self,n_in, nh, n_out):\n",
        "    super().__init__()\n",
        "    self.layers=[nn.Linear(n_in, nh),nn.ReLU(),nn.Linear(nh,n_out)]\n",
        "  \n",
        "  def __call__(self,x):\n",
        "    for l in self.layers:x=l(x)\n",
        "    return x\n"
      ],
      "execution_count": 0,
      "outputs": []
    },
    {
      "cell_type": "code",
      "metadata": {
        "id": "qJLWcifLhM_7",
        "colab_type": "code",
        "colab": {}
      },
      "source": [
        "model = Model(c, rh, cat)"
      ],
      "execution_count": 0,
      "outputs": []
    },
    {
      "cell_type": "code",
      "metadata": {
        "id": "XpFv8cjxKIkf",
        "colab_type": "code",
        "colab": {}
      },
      "source": [
        "for name, l in model.named_children(): print(f'{name}:{l}') "
      ],
      "execution_count": 0,
      "outputs": []
    },
    {
      "cell_type": "code",
      "metadata": {
        "id": "GEyxSnlyjH84",
        "colab_type": "code",
        "colab": {}
      },
      "source": [
        "pred=model(x_train)"
      ],
      "execution_count": 0,
      "outputs": []
    },
    {
      "cell_type": "code",
      "metadata": {
        "id": "rEuPU0OA6pYQ",
        "colab_type": "code",
        "outputId": "751eb78d-38ab-44ef-8804-4b4f5a4170af",
        "colab": {
          "base_uri": "https://localhost:8080/",
          "height": 34
        }
      },
      "source": [
        "pred.shape"
      ],
      "execution_count": 0,
      "outputs": [
        {
          "output_type": "execute_result",
          "data": {
            "text/plain": [
              "torch.Size([50000, 10])"
            ]
          },
          "metadata": {
            "tags": []
          },
          "execution_count": 13
        }
      ]
    },
    {
      "cell_type": "markdown",
      "metadata": {
        "id": "Ii2bwTb-2N2H",
        "colab_type": "text"
      },
      "source": [
        "#Cross entropy loss\n",
        "$$i=\\frac{e^{x_i}}{\\sum_{j=0}^{n-1}e^{x_j}}$$"
      ]
    },
    {
      "cell_type": "code",
      "metadata": {
        "id": "2YtajS2u5__J",
        "colab_type": "code",
        "colab": {}
      },
      "source": [
        "def log_softmax(x):\n",
        "  return (x.exp()/x.exp().sum(-1,keepdim=True)).log()"
      ],
      "execution_count": 0,
      "outputs": []
    },
    {
      "cell_type": "code",
      "metadata": {
        "id": "9sRC13Aw6fqQ",
        "colab_type": "code",
        "colab": {}
      },
      "source": [
        "sm_pred=log_softmax(pred)"
      ],
      "execution_count": 0,
      "outputs": []
    },
    {
      "cell_type": "code",
      "metadata": {
        "id": "E_rmgW6K8PAa",
        "colab_type": "code",
        "colab": {}
      },
      "source": [
        "def nll(input, target): return -input[range(target.shape[0]),target].mean()"
      ],
      "execution_count": 0,
      "outputs": []
    },
    {
      "cell_type": "code",
      "metadata": {
        "id": "mHF3nvZ-Cd94",
        "colab_type": "code",
        "colab": {}
      },
      "source": [
        "loss=nll(sm_pred, y_train)"
      ],
      "execution_count": 0,
      "outputs": []
    },
    {
      "cell_type": "code",
      "metadata": {
        "id": "fjt4nq2MC2ka",
        "colab_type": "code",
        "outputId": "9a67c0db-31d7-4741-ca2e-b788485e2e96",
        "colab": {
          "base_uri": "https://localhost:8080/",
          "height": 34
        }
      },
      "source": [
        "loss"
      ],
      "execution_count": 0,
      "outputs": [
        {
          "output_type": "execute_result",
          "data": {
            "text/plain": [
              "tensor(2.2993, grad_fn=<NegBackward>)"
            ]
          },
          "metadata": {
            "tags": []
          },
          "execution_count": 46
        }
      ]
    },
    {
      "cell_type": "code",
      "metadata": {
        "id": "4hsApQZI-v7R",
        "colab_type": "code",
        "colab": {}
      },
      "source": [
        "def log_softmax(x): return x-x.logsumexp(-1,keepdim=True)"
      ],
      "execution_count": 0,
      "outputs": []
    },
    {
      "cell_type": "code",
      "metadata": {
        "id": "DWf_Kqp-DDMd",
        "colab_type": "code",
        "outputId": "28c48485-baeb-45c7-b305-f176dd4fc0ba",
        "colab": {
          "base_uri": "https://localhost:8080/",
          "height": 34
        }
      },
      "source": [
        "nll(log_softmax(pred),y_train)"
      ],
      "execution_count": 0,
      "outputs": [
        {
          "output_type": "execute_result",
          "data": {
            "text/plain": [
              "tensor(2.2993, grad_fn=<NegBackward>)"
            ]
          },
          "metadata": {
            "tags": []
          },
          "execution_count": 51
        }
      ]
    },
    {
      "cell_type": "code",
      "metadata": {
        "id": "_sTclo3-J3iV",
        "colab_type": "code",
        "outputId": "650a56ad-c4fa-4cbe-9134-ff5f9ab9bde6",
        "colab": {
          "base_uri": "https://localhost:8080/",
          "height": 34
        }
      },
      "source": [
        "nn.functional.nll_loss(nn.functional.log_softmax(pred,-1),y_train)"
      ],
      "execution_count": 0,
      "outputs": [
        {
          "output_type": "execute_result",
          "data": {
            "text/plain": [
              "tensor(2.2992, grad_fn=<NllLossBackward>)"
            ]
          },
          "metadata": {
            "tags": []
          },
          "execution_count": 52
        }
      ]
    },
    {
      "cell_type": "code",
      "metadata": {
        "id": "d7u-CAEbKFya",
        "colab_type": "code",
        "outputId": "69cfd268-3733-4b91-9aad-913fa8b7d0e7",
        "colab": {
          "base_uri": "https://localhost:8080/",
          "height": 34
        }
      },
      "source": [
        "nn.functional.cross_entropy(pred,y_train)"
      ],
      "execution_count": 0,
      "outputs": [
        {
          "output_type": "execute_result",
          "data": {
            "text/plain": [
              "tensor(2.2992, grad_fn=<NllLossBackward>)"
            ]
          },
          "metadata": {
            "tags": []
          },
          "execution_count": 53
        }
      ]
    },
    {
      "cell_type": "markdown",
      "metadata": {
        "id": "CB9I3TkULhUo",
        "colab_type": "text"
      },
      "source": [
        "**Basic Training Loop**"
      ]
    },
    {
      "cell_type": "code",
      "metadata": {
        "id": "6sXVvU6mLXvX",
        "colab_type": "code",
        "colab": {}
      },
      "source": [
        "loss_func=nn.functional.cross_entropy"
      ],
      "execution_count": 0,
      "outputs": []
    },
    {
      "cell_type": "code",
      "metadata": {
        "id": "9XGnkdfjLfYn",
        "colab_type": "code",
        "colab": {}
      },
      "source": [
        "def accuracy(pred,tg): return (torch.argmax(pred, dim=1)==tg).float().mean()"
      ],
      "execution_count": 0,
      "outputs": []
    },
    {
      "cell_type": "code",
      "metadata": {
        "id": "5l6SqDqOgcdE",
        "colab_type": "code",
        "outputId": "7a7e1879-177b-4079-afd6-fc47924de2da",
        "colab": {
          "base_uri": "https://localhost:8080/",
          "height": 51
        }
      },
      "source": [
        "bs=64\n",
        "xb=x_train[0:bs]\n",
        "preds=model(xb)\n",
        "preds[0], preds.shape"
      ],
      "execution_count": 11,
      "outputs": [
        {
          "output_type": "execute_result",
          "data": {
            "text/plain": [
              "(tensor([ 0.0863, -0.2337, -0.0459, -0.0235,  0.0417,  0.0661,  0.0538,  0.0498,\n",
              "         -0.0102,  0.0485], grad_fn=<SelectBackward>), torch.Size([64, 10]))"
            ]
          },
          "metadata": {
            "tags": []
          },
          "execution_count": 11
        }
      ]
    },
    {
      "cell_type": "code",
      "metadata": {
        "id": "2ON0cluDlw-n",
        "colab_type": "code",
        "outputId": "4f4e8de9-04c7-4ab1-a7e1-edc23ad12c24",
        "colab": {
          "base_uri": "https://localhost:8080/",
          "height": 34
        }
      },
      "source": [
        "yb=y_train[0:bs]\n",
        "loss_func(preds,yb),accuracy(preds,yb)"
      ],
      "execution_count": 12,
      "outputs": [
        {
          "output_type": "execute_result",
          "data": {
            "text/plain": [
              "(tensor(2.3062, grad_fn=<NllLossBackward>), tensor(0.0625))"
            ]
          },
          "metadata": {
            "tags": []
          },
          "execution_count": 12
        }
      ]
    },
    {
      "cell_type": "code",
      "metadata": {
        "id": "t3e7IwnZnJWM",
        "colab_type": "code",
        "colab": {}
      },
      "source": [
        "lr=0.5\n",
        "epochs=1"
      ],
      "execution_count": 0,
      "outputs": []
    },
    {
      "cell_type": "code",
      "metadata": {
        "id": "yVimqwc6nRwx",
        "colab_type": "code",
        "colab": {}
      },
      "source": [
        "for epoch in range(epochs):\n",
        "  for i in range(x_train.shape[0]//bs+1):\n",
        "    start_i = i *bs\n",
        "    end_i = start_i + bs\n",
        "    xb = x_train[start_i: end_i]\n",
        "    yb = y_train[start_i: end_i]\n",
        "    loss=loss_func(model(xb), yb)\n",
        "    loss.backward()\n",
        "    with torch.no_grad():\n",
        "      for l in model.layers:\n",
        "        if hasattr(l,'weight'):\n",
        "          l.weight -= lr*l.weight.grad\n",
        "          l.bias -= lr * l.bias.grad\n",
        "          l.weight.grad.zero_()\n",
        "          l.bias.grad.zero_()\n",
        "\n"
      ],
      "execution_count": 0,
      "outputs": []
    },
    {
      "cell_type": "code",
      "metadata": {
        "id": "tDsSwxgrqyHM",
        "colab_type": "code",
        "outputId": "0eb301bc-813e-4893-f828-5078db71692f",
        "colab": {
          "base_uri": "https://localhost:8080/",
          "height": 34
        }
      },
      "source": [
        "loss, accuracy(model(xb), yb)"
      ],
      "execution_count": 15,
      "outputs": [
        {
          "output_type": "execute_result",
          "data": {
            "text/plain": [
              "(tensor(0.2231, grad_fn=<NllLossBackward>), tensor(0.9375))"
            ]
          },
          "metadata": {
            "tags": []
          },
          "execution_count": 15
        }
      ]
    },
    {
      "cell_type": "markdown",
      "metadata": {
        "id": "jSL9RbKFKL89",
        "colab_type": "text"
      },
      "source": [
        "**Use nn.Module to refactory the code. get ride of loop that updates the weights with model.parameter()**"
      ]
    },
    {
      "cell_type": "code",
      "metadata": {
        "id": "Yk5pb9z1q-ox",
        "colab_type": "code",
        "colab": {}
      },
      "source": [
        "class Model(nn.Module):\n",
        "  def __init__(self, n_in, nh, n_out):\n",
        "    super().__init__()\n",
        "    self.l1=nn.Linear(n_in, nh)\n",
        "    self.l2=nn.Linear(nh, n_out)\n",
        "  \n",
        "  def __call__(self, x): return self.l2(nn.functional.relu(self.l1(x)))"
      ],
      "execution_count": 0,
      "outputs": []
    },
    {
      "cell_type": "code",
      "metadata": {
        "id": "Yx8UekyyssdS",
        "colab_type": "code",
        "colab": {}
      },
      "source": [
        "model=Model(c,rh, cat)"
      ],
      "execution_count": 0,
      "outputs": []
    },
    {
      "cell_type": "code",
      "metadata": {
        "id": "JN7OT5E-s6bp",
        "colab_type": "code",
        "outputId": "a205ccf8-f5a7-4a4d-c6e7-e6319652c788",
        "colab": {
          "base_uri": "https://localhost:8080/",
          "height": 51
        }
      },
      "source": [
        "for name, l in model.named_children(): print(f\"{name}:{l}\")"
      ],
      "execution_count": 19,
      "outputs": [
        {
          "output_type": "stream",
          "text": [
            "l1:Linear(in_features=784, out_features=50, bias=True)\n",
            "l2:Linear(in_features=50, out_features=10, bias=True)\n"
          ],
          "name": "stdout"
        }
      ]
    },
    {
      "cell_type": "code",
      "metadata": {
        "id": "U65Z0ZTGtKQG",
        "colab_type": "code",
        "colab": {}
      },
      "source": [
        "def fit (epochs,lr):\n",
        "  for epoch in range(epochs):\n",
        "    for i in range(x_train.shape[0]//bs+1):\n",
        "      start_i = i * bs\n",
        "      end_i = start_i + bs\n",
        "      xb = x_train[start_i: end_i]\n",
        "      yb = y_train[start_i: end_i]\n",
        "      loss = loss_func(model(xb), yb)\n",
        "\n",
        "      loss.backward()\n",
        "      with torch.no_grad():\n",
        "        for p in model.parameters(): p-=p.grad * lr\n",
        "        model.zero_grad()\n",
        "  "
      ],
      "execution_count": 0,
      "outputs": []
    },
    {
      "cell_type": "code",
      "metadata": {
        "id": "Ok9SjB1duA1W",
        "colab_type": "code",
        "colab": {}
      },
      "source": [
        "fit (2, 0.5)"
      ],
      "execution_count": 0,
      "outputs": []
    },
    {
      "cell_type": "code",
      "metadata": {
        "id": "fMtNES5BuIDO",
        "colab_type": "code",
        "outputId": "631f5113-89a6-46e5-f6f8-c77611592e3c",
        "colab": {
          "base_uri": "https://localhost:8080/",
          "height": 34
        }
      },
      "source": [
        "loss, accuracy(model(x_train), y_train)"
      ],
      "execution_count": 22,
      "outputs": [
        {
          "output_type": "execute_result",
          "data": {
            "text/plain": [
              "(tensor(0.2819, grad_fn=<NllLossBackward>), tensor(0.9593))"
            ]
          },
          "metadata": {
            "tags": []
          },
          "execution_count": 22
        }
      ]
    },
    {
      "cell_type": "code",
      "metadata": {
        "id": "8ZWoBFo8uOL9",
        "colab_type": "code",
        "colab": {}
      },
      "source": [
        "class DummyModule():\n",
        "  def __init__(self,n_in,nh,n_out):\n",
        "    self._modules={}\n",
        "    self.l1=nn.Linear(n_in,nh)\n",
        "    self.l2=nn.Linear(nh, n_out)\n",
        "\n",
        "  def __setattr__(self,k,v):\n",
        "    if not k.startswith('_'): self._modules[k]=v\n",
        "    super().__setattr__(k,v)\n",
        "  \n",
        "  def __repr__(self):\n",
        "    return f'{self._modules}'\n",
        "  \n",
        "  def parameters(self):\n",
        "    for l in self._modules.values():\n",
        "      for p in l.parameters(): yield p"
      ],
      "execution_count": 0,
      "outputs": []
    },
    {
      "cell_type": "code",
      "metadata": {
        "id": "YOjgUdku4k-C",
        "colab_type": "code",
        "colab": {}
      },
      "source": [
        "mdl=DummyModule(c,rh,cat)"
      ],
      "execution_count": 0,
      "outputs": []
    },
    {
      "cell_type": "code",
      "metadata": {
        "id": "UmCZEcusDyWw",
        "colab_type": "code",
        "colab": {
          "base_uri": "https://localhost:8080/",
          "height": 34
        },
        "outputId": "b27f95cd-0b4c-4586-dfe2-a35faf363709"
      },
      "source": [
        "mdl"
      ],
      "execution_count": 26,
      "outputs": [
        {
          "output_type": "execute_result",
          "data": {
            "text/plain": [
              "{'l1': Linear(in_features=784, out_features=50, bias=True), 'l2': Linear(in_features=50, out_features=10, bias=True)}"
            ]
          },
          "metadata": {
            "tags": []
          },
          "execution_count": 26
        }
      ]
    },
    {
      "cell_type": "code",
      "metadata": {
        "id": "8LhltCTAD1GR",
        "colab_type": "code",
        "colab": {
          "base_uri": "https://localhost:8080/",
          "height": 85
        },
        "outputId": "8f33166a-bb21-4c94-e34b-e9c2b53097d8"
      },
      "source": [
        "[o.shape for o in mdl.parameters()]"
      ],
      "execution_count": 28,
      "outputs": [
        {
          "output_type": "execute_result",
          "data": {
            "text/plain": [
              "[torch.Size([50, 784]),\n",
              " torch.Size([50]),\n",
              " torch.Size([10, 50]),\n",
              " torch.Size([10])]"
            ]
          },
          "metadata": {
            "tags": []
          },
          "execution_count": 28
        }
      ]
    },
    {
      "cell_type": "markdown",
      "metadata": {
        "id": "VqKLp7lGKj_R",
        "colab_type": "text"
      },
      "source": [
        "**Use a list of layers, so need to need set layers in the model**"
      ]
    },
    {
      "cell_type": "code",
      "metadata": {
        "id": "9YXophmcHwG_",
        "colab_type": "code",
        "colab": {}
      },
      "source": [
        "layers=[nn.Linear(c, rh), nn.ReLU(), nn.Linear(rh,cat)]"
      ],
      "execution_count": 0,
      "outputs": []
    },
    {
      "cell_type": "code",
      "metadata": {
        "id": "02Vr9mDBD_wP",
        "colab_type": "code",
        "colab": {}
      },
      "source": [
        "class Model(nn.Module):\n",
        "  def __init__(self, layers):\n",
        "    super().__init__()\n",
        "    self.layers= layers\n",
        "    for i, l in enumerate(self.layers): self.add_module(f'layer_{i}',l)  # this is same as if not k.startswith('_'): self._modules[k]=v\n",
        "\n",
        "  def __call__(self,x):\n",
        "    for l in self.layers: x= l(x)\n",
        "    return x\n"
      ],
      "execution_count": 0,
      "outputs": []
    },
    {
      "cell_type": "code",
      "metadata": {
        "id": "mvIWld_GGs4J",
        "colab_type": "code",
        "colab": {}
      },
      "source": [
        "model=Model(layers)"
      ],
      "execution_count": 0,
      "outputs": []
    },
    {
      "cell_type": "code",
      "metadata": {
        "id": "rVlgH6sFHmtu",
        "colab_type": "code",
        "colab": {
          "base_uri": "https://localhost:8080/",
          "height": 102
        },
        "outputId": "03020c51-0dad-47ac-92cc-7377569329e7"
      },
      "source": [
        "model"
      ],
      "execution_count": 38,
      "outputs": [
        {
          "output_type": "execute_result",
          "data": {
            "text/plain": [
              "Model(\n",
              "  (layer_0): Linear(in_features=784, out_features=50, bias=True)\n",
              "  (layer_1): ReLU()\n",
              "  (layer_2): Linear(in_features=50, out_features=10, bias=True)\n",
              ")"
            ]
          },
          "metadata": {
            "tags": []
          },
          "execution_count": 38
        }
      ]
    },
    {
      "cell_type": "markdown",
      "metadata": {
        "id": "Bv6i0yEMIyN1",
        "colab_type": "text"
      },
      "source": [
        "however  '''for i, l in enumerate(self.layers): self.add_module(f'layer_{i}',l) ''' is clunky. nn.ModuleList has this built in"
      ]
    },
    {
      "cell_type": "code",
      "metadata": {
        "id": "NviCp7WwL-0M",
        "colab_type": "code",
        "colab": {}
      },
      "source": [
        "#Modulelist\n",
        "class SModel(nn.Module):\n",
        "  def __init__(self, layers):\n",
        "    super().__init__()\n",
        "    self.layers=nn.ModuleList(layers)\n",
        "  def __call__(self,x):\n",
        "    for l in self.layers:\n",
        "      x=l(x)\n",
        "      return x"
      ],
      "execution_count": 0,
      "outputs": []
    },
    {
      "cell_type": "code",
      "metadata": {
        "id": "ChL6zk23L7E1",
        "colab_type": "code",
        "colab": {}
      },
      "source": [
        "model = SModel(layers)"
      ],
      "execution_count": 0,
      "outputs": []
    },
    {
      "cell_type": "code",
      "metadata": {
        "id": "HTKC-KyLMbUk",
        "colab_type": "code",
        "colab": {
          "base_uri": "https://localhost:8080/",
          "height": 136
        },
        "outputId": "b4b3cfc2-12db-4ea1-cda5-8fd26f7b725f"
      },
      "source": [
        "model"
      ],
      "execution_count": 42,
      "outputs": [
        {
          "output_type": "execute_result",
          "data": {
            "text/plain": [
              "SModel(\n",
              "  (layers): ModuleList(\n",
              "    (0): Linear(in_features=784, out_features=50, bias=True)\n",
              "    (1): ReLU()\n",
              "    (2): Linear(in_features=50, out_features=10, bias=True)\n",
              "  )\n",
              ")"
            ]
          },
          "metadata": {
            "tags": []
          },
          "execution_count": 42
        }
      ]
    },
    {
      "cell_type": "markdown",
      "metadata": {
        "id": "Okmo3sYVOGGW",
        "colab_type": "text"
      },
      "source": [
        "nn.Sequential can replace the whole calss SModel codes"
      ]
    },
    {
      "cell_type": "code",
      "metadata": {
        "id": "xq7gYNWcOS-0",
        "colab_type": "code",
        "colab": {}
      },
      "source": [
        "model = nn.Sequential(nn.Linear(c, rh), nn.ReLU(), nn.Linear(rh, cat))"
      ],
      "execution_count": 0,
      "outputs": []
    },
    {
      "cell_type": "code",
      "metadata": {
        "id": "mzEPBc9XOchw",
        "colab_type": "code",
        "colab": {}
      },
      "source": [
        "fit(2, 0.5)"
      ],
      "execution_count": 0,
      "outputs": []
    },
    {
      "cell_type": "code",
      "metadata": {
        "id": "3_wQwRv-Ok9c",
        "colab_type": "code",
        "colab": {
          "base_uri": "https://localhost:8080/",
          "height": 34
        },
        "outputId": "e609bc6a-0708-412d-e2f6-a2cd7923556c"
      },
      "source": [
        "loss_func(model(x_train), y_train), accuracy(model(x_train), y_train)"
      ],
      "execution_count": 26,
      "outputs": [
        {
          "output_type": "execute_result",
          "data": {
            "text/plain": [
              "(tensor(0.1216, grad_fn=<NllLossBackward>), tensor(0.9615))"
            ]
          },
          "metadata": {
            "tags": []
          },
          "execution_count": 26
        }
      ]
    },
    {
      "cell_type": "code",
      "metadata": {
        "id": "wFpsMfCrOtMf",
        "colab_type": "code",
        "colab": {
          "base_uri": "https://localhost:8080/",
          "height": 102
        },
        "outputId": "0069c275-d92d-47ad-cdb1-d3309240ed39"
      },
      "source": [
        "model"
      ],
      "execution_count": 27,
      "outputs": [
        {
          "output_type": "execute_result",
          "data": {
            "text/plain": [
              "Sequential(\n",
              "  (0): Linear(in_features=784, out_features=50, bias=True)\n",
              "  (1): ReLU()\n",
              "  (2): Linear(in_features=50, out_features=10, bias=True)\n",
              ")"
            ]
          },
          "metadata": {
            "tags": []
          },
          "execution_count": 27
        }
      ]
    },
    {
      "cell_type": "markdown",
      "metadata": {
        "id": "h0-kXNGNO7iL",
        "colab_type": "text"
      },
      "source": [
        "**Still use fit() to train model. Replace that with a class Optimizer()**\n"
      ]
    },
    {
      "cell_type": "markdown",
      "metadata": {
        "id": "8KNO0a7dPTKC",
        "colab_type": "text"
      },
      "source": [
        "  \n",
        "\n",
        "```\n",
        "with torch.no_grad():\n",
        "    for p in model.parameters(): p-=p.grad * lr\n",
        "      model.zero_grad()\n",
        "```\n",
        "\n",
        "\n",
        "      "
      ]
    },
    {
      "cell_type": "code",
      "metadata": {
        "id": "z7fasJsMQSlI",
        "colab_type": "code",
        "colab": {}
      },
      "source": [
        "class Optimizer():\n",
        "  def __init__(self, parameters, lr=0.5): self.parameters, self.lr=parameters, lr\n",
        "  def step(self):\n",
        "    with torch.no_grad(): \n",
        "      for p in self.parameters: p-= p.grad*self.lr\n",
        "\n",
        "  def zero_grad(self):\n",
        "    for p in self.parameters: p.grad.data.zero_()\n"
      ],
      "execution_count": 0,
      "outputs": []
    },
    {
      "cell_type": "code",
      "metadata": {
        "id": "2sZaM-GXRCts",
        "colab_type": "code",
        "colab": {}
      },
      "source": [
        "opt=Optimizer(model.parameters())"
      ],
      "execution_count": 0,
      "outputs": []
    },
    {
      "cell_type": "code",
      "metadata": {
        "id": "QXamoUnRRu2q",
        "colab_type": "code",
        "colab": {}
      },
      "source": [
        "for epoch in range(epochs):\n",
        "  for i in range(x_train.shape[0]//bs+1):\n",
        "    start_i = i*bs\n",
        "    end_i = start_i + bs\n",
        "    xb= x_train[start_i:end_i]\n",
        "    yb= y_train[start_i:end_i]\n",
        "    pred=model(xb)\n",
        "    loss=loss_func(pred,yb)\n",
        "\n",
        "    loss.backward()\n",
        "    opt.step()\n",
        "    opt.zero_grad()"
      ],
      "execution_count": 0,
      "outputs": []
    },
    {
      "cell_type": "code",
      "metadata": {
        "id": "0x73zHcmSeh7",
        "colab_type": "code",
        "colab": {
          "base_uri": "https://localhost:8080/",
          "height": 34
        },
        "outputId": "7a775445-4227-4bae-bba3-106d1462294b"
      },
      "source": [
        "loss_func(model(x_train),y_train), accuracy(model(x_train), y_train)"
      ],
      "execution_count": 31,
      "outputs": [
        {
          "output_type": "execute_result",
          "data": {
            "text/plain": [
              "(tensor(0.1114, grad_fn=<NllLossBackward>), tensor(0.9657))"
            ]
          },
          "metadata": {
            "tags": []
          },
          "execution_count": 31
        }
      ]
    },
    {
      "cell_type": "markdown",
      "metadata": {
        "id": "LZFD7pLdT9R3",
        "colab_type": "text"
      },
      "source": [
        "class Optimizer() can be replaced by torch.optim.SGD()"
      ]
    },
    {
      "cell_type": "code",
      "metadata": {
        "id": "f6PKj9-bUrpM",
        "colab_type": "code",
        "colab": {}
      },
      "source": [
        "def get_model():\n",
        "  model = nn.Sequential(nn.Linear(c, rh), nn.ReLU(), nn.Linear(rh, cat))\n",
        "  return model, torch.optim.SGD(model.parameters(), lr=0.5)"
      ],
      "execution_count": 0,
      "outputs": []
    },
    {
      "cell_type": "code",
      "metadata": {
        "id": "V7JL_d7FU5f2",
        "colab_type": "code",
        "colab": {
          "base_uri": "https://localhost:8080/",
          "height": 34
        },
        "outputId": "9fc221c4-8943-42ac-b89c-71c42e99911f"
      },
      "source": [
        "loss_func(model(x_train), y_train)"
      ],
      "execution_count": 33,
      "outputs": [
        {
          "output_type": "execute_result",
          "data": {
            "text/plain": [
              "tensor(0.1114, grad_fn=<NllLossBackward>)"
            ]
          },
          "metadata": {
            "tags": []
          },
          "execution_count": 33
        }
      ]
    },
    {
      "cell_type": "code",
      "metadata": {
        "id": "yPkvSg2fVHyq",
        "colab_type": "code",
        "colab": {}
      },
      "source": [
        "for epoch in range(epochs):\n",
        "  for i in range(x_train.shape[0]//bs+1):\n",
        "    start_i = i*bs\n",
        "    end_i = start_i+bs\n",
        "    xb = x_train[start_i:end_i]\n",
        "    yb = y_train[start_i:end_i]\n",
        "    pred = model(xb)\n",
        "    loss = loss_func(pred, yb)\n",
        "\n",
        "    loss.backward()\n",
        "    opt.step()\n",
        "    opt.zero_grad()\n"
      ],
      "execution_count": 0,
      "outputs": []
    },
    {
      "cell_type": "code",
      "metadata": {
        "id": "ILUGGKKuVfgf",
        "colab_type": "code",
        "colab": {
          "base_uri": "https://localhost:8080/",
          "height": 34
        },
        "outputId": "1f63e516-9da4-48f9-d5c2-cfa228b1028d"
      },
      "source": [
        "loss_func(model(x_train), y_train), accuracy(model(x_train), y_train)"
      ],
      "execution_count": 35,
      "outputs": [
        {
          "output_type": "execute_result",
          "data": {
            "text/plain": [
              "(tensor(0.1114, grad_fn=<NllLossBackward>), tensor(0.9657))"
            ]
          },
          "metadata": {
            "tags": []
          },
          "execution_count": 35
        }
      ]
    },
    {
      "cell_type": "markdown",
      "metadata": {
        "id": "coFSujxRVonl",
        "colab_type": "text"
      },
      "source": [
        "Now let us simplify the data part\n",
        "```\n",
        "start_i = i*bs\n",
        "    end_i = start_i+bs\n",
        "    xb = x_train[start_i:end_i]\n",
        "    yb = y_train[start_i:end_i]\n",
        "    pred = model(xb)\n",
        "    loss = loss_func(pred, yb)\n",
        "```"
      ]
    },
    {
      "cell_type": "code",
      "metadata": {
        "id": "wUEzEiamV2jq",
        "colab_type": "code",
        "colab": {}
      },
      "source": [
        "class Dataset():\n",
        "  def __init__(self,x, y): self.x, self.y= x,y\n",
        "  def __len__(self):return len(self.x)\n",
        "  def __getitem__(self, i): return self.x[i], self.y[i]"
      ],
      "execution_count": 0,
      "outputs": []
    },
    {
      "cell_type": "code",
      "metadata": {
        "id": "gOVoKmpTWUYV",
        "colab_type": "code",
        "colab": {}
      },
      "source": [
        "train_ds = Dataset(x_train, y_train)"
      ],
      "execution_count": 0,
      "outputs": []
    },
    {
      "cell_type": "code",
      "metadata": {
        "id": "NOom-_E-Wa3y",
        "colab_type": "code",
        "colab": {
          "base_uri": "https://localhost:8080/",
          "height": 34
        },
        "outputId": "5cf379e1-eb45-4593-a234-9dcd6c5d1f21"
      },
      "source": [
        "len(train_ds)"
      ],
      "execution_count": 82,
      "outputs": [
        {
          "output_type": "execute_result",
          "data": {
            "text/plain": [
              "50000"
            ]
          },
          "metadata": {
            "tags": []
          },
          "execution_count": 82
        }
      ]
    },
    {
      "cell_type": "code",
      "metadata": {
        "id": "kONoiVVXW3Za",
        "colab_type": "code",
        "colab": {}
      },
      "source": [
        "model, opt = get_model()"
      ],
      "execution_count": 0,
      "outputs": []
    },
    {
      "cell_type": "code",
      "metadata": {
        "id": "PNFRRRyWXA7c",
        "colab_type": "code",
        "colab": {}
      },
      "source": [
        "for epoch in range(epochs):\n",
        "  for i in range(x_train.shape[0]//bs+1):\n",
        "    xb, yb = train_ds[i*bs: (i+1)*bs]\n",
        "    pred=model(xb)\n",
        "    loss=loss_func(pred, yb)\n",
        "    loss.backward()\n",
        "    opt.step()\n",
        "    opt.zero_grad()"
      ],
      "execution_count": 0,
      "outputs": []
    },
    {
      "cell_type": "code",
      "metadata": {
        "id": "DlmEduzqYHFL",
        "colab_type": "code",
        "colab": {
          "base_uri": "https://localhost:8080/",
          "height": 34
        },
        "outputId": "0f08c5aa-e905-4620-c1c3-0be0f12303c0"
      },
      "source": [
        "loss_func(model(x_train), y_train), accuracy(model(x_train),y_train)"
      ],
      "execution_count": 40,
      "outputs": [
        {
          "output_type": "execute_result",
          "data": {
            "text/plain": [
              "(tensor(0.1956, grad_fn=<NllLossBackward>), tensor(0.9397))"
            ]
          },
          "metadata": {
            "tags": []
          },
          "execution_count": 40
        }
      ]
    },
    {
      "cell_type": "code",
      "metadata": {
        "id": "FRgr6vX8YhhX",
        "colab_type": "code",
        "colab": {}
      },
      "source": [
        "class Dataloader():\n",
        "  def __init__(self, ds, bs):\n",
        "    self.ds, self.bs = ds, bs\n",
        "  def __iter__(self):\n",
        "    for i in range(0, len(self.ds), self.bs): yield self.ds[i: i+self.bs]"
      ],
      "execution_count": 0,
      "outputs": []
    },
    {
      "cell_type": "code",
      "metadata": {
        "id": "XGkPRemFZWYH",
        "colab_type": "code",
        "colab": {}
      },
      "source": [
        "train_dl= Dataloader(train_ds,bs)"
      ],
      "execution_count": 0,
      "outputs": []
    },
    {
      "cell_type": "code",
      "metadata": {
        "id": "yiWOLvVQZgDc",
        "colab_type": "code",
        "colab": {
          "base_uri": "https://localhost:8080/",
          "height": 34
        },
        "outputId": "cce378e0-11d0-4b74-a68b-e57bc95ecc4c"
      },
      "source": [
        "xb, yb = next(iter(train_dl))\n",
        "xb.shape, yb.shape"
      ],
      "execution_count": 44,
      "outputs": [
        {
          "output_type": "execute_result",
          "data": {
            "text/plain": [
              "(torch.Size([64, 784]), torch.Size([64]))"
            ]
          },
          "metadata": {
            "tags": []
          },
          "execution_count": 44
        }
      ]
    },
    {
      "cell_type": "code",
      "metadata": {
        "id": "TlSynSkzZvLu",
        "colab_type": "code",
        "colab": {
          "base_uri": "https://localhost:8080/",
          "height": 282
        },
        "outputId": "ba86fcda-e6c5-4db4-debf-17a0d150b280"
      },
      "source": [
        "plt.imshow(xb[0].view(28,28)), yb[0]"
      ],
      "execution_count": 95,
      "outputs": [
        {
          "output_type": "execute_result",
          "data": {
            "text/plain": [
              "(<matplotlib.image.AxesImage at 0x7f5a48bbed68>, tensor(5))"
            ]
          },
          "metadata": {
            "tags": []
          },
          "execution_count": 95
        },
        {
          "output_type": "display_data",
          "data": {
            "image/png": "[encoded data removed]",
            "text/plain": [
              "<Figure size 432x288 with 1 Axes>"
            ]
          },
          "metadata": {
            "tags": []
          }
        }
      ]
    },
    {
      "cell_type": "code",
      "metadata": {
        "id": "QLdLi3eCZ9gj",
        "colab_type": "code",
        "colab": {}
      },
      "source": [
        "model, opt = get_model()\n",
        "def fit():\n",
        "  for epoch in range (epochs):\n",
        "    for xb, yb in train_dl: \n",
        "      pred= model(xb)\n",
        "      loss= loss_func(pred, yb)\n",
        "      loss.backward()\n",
        "      opt.step()\n",
        "      opt.zero_grad()"
      ],
      "execution_count": 0,
      "outputs": []
    },
    {
      "cell_type": "code",
      "metadata": {
        "id": "xGS0-CyzaW_A",
        "colab_type": "code",
        "colab": {}
      },
      "source": [
        "fit()"
      ],
      "execution_count": 0,
      "outputs": []
    },
    {
      "cell_type": "code",
      "metadata": {
        "id": "9Mp3XhIJaZAV",
        "colab_type": "code",
        "colab": {
          "base_uri": "https://localhost:8080/",
          "height": 34
        },
        "outputId": "e3bca778-04f5-4162-d613-835c3a31a301"
      },
      "source": [
        "loss_func(model(x_train), y_train), accuracy(model(x_train),y_train)"
      ],
      "execution_count": 47,
      "outputs": [
        {
          "output_type": "execute_result",
          "data": {
            "text/plain": [
              "(tensor(0.2104, grad_fn=<NllLossBackward>), tensor(0.9355))"
            ]
          },
          "metadata": {
            "tags": []
          },
          "execution_count": 47
        }
      ]
    },
    {
      "cell_type": "markdown",
      "metadata": {
        "id": "1PQkEx2RagoU",
        "colab_type": "text"
      },
      "source": [
        "Random Sampling "
      ]
    },
    {
      "cell_type": "code",
      "metadata": {
        "id": "tjWwg8H0A1Js",
        "colab_type": "code",
        "colab": {}
      },
      "source": [
        "class Sampler():\n",
        "  def __init__(self, ds, bs, shuffle=True):\n",
        "    self.len, self.bs, self.shuffle = len(ds), bs, shuffle\n",
        "  \n",
        "  def __iter__(self):\n",
        "    self.idxs= torch.randperm(self.len) if self.shuffle else torch.arange(self.len)\n",
        "    for i in range(0, self.len, self.bs): yield self.idxs[i: i+self.bs]\n"
      ],
      "execution_count": 0,
      "outputs": []
    },
    {
      "cell_type": "code",
      "metadata": {
        "id": "XnzRjPnjCKur",
        "colab_type": "code",
        "colab": {}
      },
      "source": [
        "s_ds=Dataset(*train_ds[:10])"
      ],
      "execution_count": 0,
      "outputs": []
    },
    {
      "cell_type": "code",
      "metadata": {
        "id": "PDSjdwLIDCkl",
        "colab_type": "code",
        "colab": {}
      },
      "source": [
        "s = Sampler(s_ds, 3, True)"
      ],
      "execution_count": 0,
      "outputs": []
    },
    {
      "cell_type": "code",
      "metadata": {
        "id": "ipO_O7dKDKj3",
        "colab_type": "code",
        "colab": {}
      },
      "source": [
        "t=[o for o in s][0]"
      ],
      "execution_count": 0,
      "outputs": []
    },
    {
      "cell_type": "code",
      "metadata": {
        "id": "h8cMNPTpHfDJ",
        "colab_type": "code",
        "colab": {
          "base_uri": "https://localhost:8080/",
          "height": 34
        },
        "outputId": "a75bed6c-430d-44c7-e131-a33807daa664"
      },
      "source": [
        "t"
      ],
      "execution_count": 52,
      "outputs": [
        {
          "output_type": "execute_result",
          "data": {
            "text/plain": [
              "tensor([0, 6, 2])"
            ]
          },
          "metadata": {
            "tags": []
          },
          "execution_count": 52
        }
      ]
    },
    {
      "cell_type": "code",
      "metadata": {
        "id": "i-q0BhVLF2-k",
        "colab_type": "code",
        "colab": {
          "base_uri": "https://localhost:8080/",
          "height": 34
        },
        "outputId": "54c6071f-3143-4838-c04a-6c37733511aa"
      },
      "source": [
        "[s_ds[i][1] for i in t]"
      ],
      "execution_count": 158,
      "outputs": [
        {
          "output_type": "execute_result",
          "data": {
            "text/plain": [
              "[tensor(9), tensor(5), tensor(4)]"
            ]
          },
          "metadata": {
            "tags": []
          },
          "execution_count": 158
        }
      ]
    },
    {
      "cell_type": "code",
      "metadata": {
        "id": "nXr49dudEO2Z",
        "colab_type": "code",
        "colab": {}
      },
      "source": [
        "def collate(b):\n",
        "  xs, ys= zip(*b)\n",
        "  return torch.stack(xs), torch.stack(ys)"
      ],
      "execution_count": 0,
      "outputs": []
    },
    {
      "cell_type": "code",
      "metadata": {
        "id": "BzWJMXGjE_dz",
        "colab_type": "code",
        "colab": {}
      },
      "source": [
        "class DataLoader():\n",
        "  def __init__(self, ds, sampler):# collect_fn=collect\n",
        "    self.ds, self.sampler = ds, sampler\n",
        "  \n",
        "  def __iter__(self):\n",
        "    for s in self.sampler: yield self.ds[s]"
      ],
      "execution_count": 0,
      "outputs": []
    },
    {
      "cell_type": "code",
      "metadata": {
        "id": "9jo1U1pNJujJ",
        "colab_type": "code",
        "colab": {}
      },
      "source": [
        "train_ds=Dataset(x_train, y_train)\n",
        "valid_ds=Dataset(x_valid, y_valid)"
      ],
      "execution_count": 0,
      "outputs": []
    },
    {
      "cell_type": "code",
      "metadata": {
        "id": "Vro96bhJJec6",
        "colab_type": "code",
        "colab": {}
      },
      "source": [
        "train_samp= Sampler(train_ds, bs)\n",
        "valid_samp= Sampler(valid_ds, bs)"
      ],
      "execution_count": 0,
      "outputs": []
    },
    {
      "cell_type": "code",
      "metadata": {
        "id": "HIZV7jNxKLtW",
        "colab_type": "code",
        "colab": {}
      },
      "source": [
        "train_dl = DataLoader(train_ds, train_samp)\n",
        "valid_dl = DataLoader(valid_ds, valid_samp)"
      ],
      "execution_count": 0,
      "outputs": []
    },
    {
      "cell_type": "code",
      "metadata": {
        "id": "c6prvSbAKdA7",
        "colab_type": "code",
        "colab": {}
      },
      "source": [
        "xb, yb = next(iter(train_dl))"
      ],
      "execution_count": 0,
      "outputs": []
    },
    {
      "cell_type": "code",
      "metadata": {
        "id": "5mu6h7ZeKuUg",
        "colab_type": "code",
        "colab": {
          "base_uri": "https://localhost:8080/",
          "height": 282
        },
        "outputId": "fe8dd4a8-b7e8-4942-ef90-dd6dd9f51e91"
      },
      "source": [
        "plt.imshow(xb[0].view(28,28)), yb[0]"
      ],
      "execution_count": 172,
      "outputs": [
        {
          "output_type": "execute_result",
          "data": {
            "text/plain": [
              "(<matplotlib.image.AxesImage at 0x7f5a48aa7550>, tensor(0))"
            ]
          },
          "metadata": {
            "tags": []
          },
          "execution_count": 172
        },
        {
          "output_type": "display_data",
          "data": {
            "image/png": "[encoded data removed]",
            "text/plain": [
              "<Figure size 432x288 with 1 Axes>"
            ]
          },
          "metadata": {
            "tags": []
          }
        }
      ]
    },
    {
      "cell_type": "markdown",
      "metadata": {
        "id": "-6hKMLmwMh3v",
        "colab_type": "text"
      },
      "source": [
        "Pytorch DataLoader"
      ]
    },
    {
      "cell_type": "code",
      "metadata": {
        "id": "fiDmh28-Mp8z",
        "colab_type": "code",
        "colab": {}
      },
      "source": [
        "from torch.utils.data import DataLoader, SequentialSampler, RandomSampler"
      ],
      "execution_count": 0,
      "outputs": []
    },
    {
      "cell_type": "code",
      "metadata": {
        "id": "GmMspg21Mxfj",
        "colab_type": "code",
        "colab": {}
      },
      "source": [
        "train_dl = DataLoader(train_ds, bs, sampler= RandomSampler(train_ds), collate_fn=collate)\n",
        "valid_dl = DataLoader(valid_ds, bs, sampler=SequentialSampler(valid_ds), collate_fn=collate)"
      ],
      "execution_count": 0,
      "outputs": []
    },
    {
      "cell_type": "code",
      "metadata": {
        "id": "pFutXMuYNRqG",
        "colab_type": "code",
        "colab": {
          "base_uri": "https://localhost:8080/",
          "height": 34
        },
        "outputId": "aa39415c-4d37-4fa4-b538-f8351c120bba"
      },
      "source": [
        "model, opt = get_model()\n",
        "fit()\n",
        "loss_func(model(x_train), y_train), accuracy(model(x_train), y_train)"
      ],
      "execution_count": 62,
      "outputs": [
        {
          "output_type": "execute_result",
          "data": {
            "text/plain": [
              "(tensor(0.2301, grad_fn=<NllLossBackward>), tensor(0.9267))"
            ]
          },
          "metadata": {
            "tags": []
          },
          "execution_count": 62
        }
      ]
    },
    {
      "cell_type": "code",
      "metadata": {
        "id": "OC2o1twwNnhN",
        "colab_type": "code",
        "colab": {}
      },
      "source": [
        "class Runner():\n",
        "  def __init__(self, model, train_dl, valid_dl, bs, opt):\n",
        "    self.model=model\n",
        "    self.train_dl=train_dl\n",
        "    self.valid_dl=valid_dl\n",
        "    self.bs=bs\n",
        "    self.opt=opt\n",
        "  def fit(self, epochs, lr):\n",
        "    for epoch in range(epochs):\n",
        "      model.train()\n",
        "      for xb, yb in train_dl:\n",
        "        loss=loss_func(model(xb),yb)\n",
        "        loss.backward()\n",
        "        opt.step()\n",
        "        opt.zero_grad()\n",
        "      model.eval()\n",
        "      with torch.no_grad():\n",
        "        tot_loss, tot_acc=0.,0.\n",
        "        for xb, yb in valid_dl:\n",
        "          tot_loss +=loss_func(model(xb),yb)\n",
        "          tot_acc += accuracy(model(xb),yb)\n",
        "      nv = len(valid_dl)\n",
        "      print(epoch, tot_loss/nv, tot_acc/nv)\n",
        "    return tot_loss/nv, tot_acc/nv"
      ],
      "execution_count": 0,
      "outputs": []
    },
    {
      "cell_type": "code",
      "metadata": {
        "id": "6ubWfCzEQgU7",
        "colab_type": "code",
        "colab": {}
      },
      "source": [
        "model, opt = get_model()\n",
        "run = Runner(model, train_dl, valid_dl,bs, opt)"
      ],
      "execution_count": 0,
      "outputs": []
    },
    {
      "cell_type": "code",
      "metadata": {
        "id": "btmFKQssQsTk",
        "colab_type": "code",
        "colab": {
          "base_uri": "https://localhost:8080/",
          "height": 119
        },
        "outputId": "ad885e16-a5c0-47ff-d2d0-5c094e036714"
      },
      "source": [
        "run.fit(5,0.1)"
      ],
      "execution_count": 90,
      "outputs": [
        {
          "output_type": "stream",
          "text": [
            "0 tensor(0.1958) tensor(0.9416)\n",
            "1 tensor(0.1213) tensor(0.9626)\n",
            "2 tensor(0.1634) tensor(0.9531)\n",
            "3 tensor(0.1024) tensor(0.9699)\n",
            "4 tensor(0.0990) tensor(0.9715)\n"
          ],
          "name": "stdout"
        },
        {
          "output_type": "execute_result",
          "data": {
            "text/plain": [
              "(tensor(0.0990), tensor(0.9715))"
            ]
          },
          "metadata": {
            "tags": []
          },
          "execution_count": 90
        }
      ]
    },
    {
      "cell_type": "code",
      "metadata": {
        "id": "jPCV1vU6SBKc",
        "colab_type": "code",
        "colab": {}
      },
      "source": [
        ""
      ],
      "execution_count": 0,
      "outputs": []
    }
  ]
}